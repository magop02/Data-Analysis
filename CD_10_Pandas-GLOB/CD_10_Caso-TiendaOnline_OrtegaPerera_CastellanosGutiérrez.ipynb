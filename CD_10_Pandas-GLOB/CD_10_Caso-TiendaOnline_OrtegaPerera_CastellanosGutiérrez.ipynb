{
 "cells": [
  {
   "cell_type": "markdown",
   "metadata": {},
   "source": [
    "<!--Información del curso-->\n",
    "<img align=\"left\" style=\"padding-right:10px;\" src=\"figuras/logo_ciencia_datos.png\">"
   ]
  },
  {
   "cell_type": "markdown",
   "metadata": {},
   "source": [
    " \n",
    "<center><h2 style=\"font-size:2em;color:#840700\">   Caso de estudio: Ventas </h4></center>\n",
    "\n",
    "<br>\n",
    "<table>\n",
    "<col width=\"550\">\n",
    "<col width=\"450\">\n",
    "<tr>\n",
    "<td><img src=\"figuras/ventas.jpg\" align=\"left\" style=\"width:400px\"/></td>\n",
    "<td>\n",
    "\n",
    "* **Wes McKinney**, empezó a desarrollar Pandas en el año 2008 mientras trabajaba en *AQR Capital* [https://www.aqr.com/] por la necesidad que tenía de una herramienta flexible de alto rendimiento para realizar análisis cuantitativos en datos financieros. \n",
    "* Antes de dejar AQR convenció a la administración de la empresa de distribuir esta biblioteca bajo licencia de código abierto.\n",
    "* **Pandas** es un acrónimo de **PANel DAta analysiS**\n",
    "   \n",
    "    \n",
    "<br>\n",
    "</td>\n",
    "</tr>\n",
    "</table>"
   ]
  },
  {
   "cell_type": "markdown",
   "metadata": {},
   "source": [
    "## Integrantes\n",
    "\n",
    "Nombre 1: María de Guadalupe Ortega Perera\n",
    "\n",
    "Nombre 2: Enrique Yair Castellanos Gutiérrez"
   ]
  },
  {
   "cell_type": "code",
   "execution_count": 17,
   "metadata": {},
   "outputs": [],
   "source": [
    "#librerías\n",
    "import pandas as pd\n",
    "import numpy as np\n",
    "import matplotlib.pyplot as plt\n",
    "import glob"
   ]
  },
  {
   "cell_type": "markdown",
   "metadata": {},
   "source": [
    "### Ejercicio\n",
    "\n",
    "Utilzar los archivos \"datos/ventas/*.txt\" para contestar las siguientes preguntas. A continuación el código propuesto para obtener el dataframe:\n",
    "\n",
    "```python\n",
    "files = glob('datos/Ventas/*.txt')\n",
    "df =  pd.concat((pd.read_csv(file) for file in files))\n",
    "df=df.dropna(axis='rows',how='any')\n",
    "df=df[df['Quantity Ordered']!='Quantity Ordered'] \n",
    "```"
   ]
  },
  {
   "cell_type": "markdown",
   "metadata": {},
   "source": [
    "<div class=\"alert alert-success\">\n",
    "    \n",
    "0. Explicar que hace el código de arriba\n",
    "    \n",
    "</div> "
   ]
  },
  {
   "cell_type": "markdown",
   "metadata": {},
   "source": [
    "Inicialmente abre todos los archivos con extensión .txt dentro de la carpeta ventas en la carpeta datos, concatena todos los archivos para crear un dataframe y seguidamente elimina todas las filas que contengan datos faltantes, y finalmente filtra el dataframe para que no se tomen en cuenta las filas en las que no existen datos de compra."
   ]
  },
  {
   "cell_type": "code",
   "execution_count": 18,
   "metadata": {},
   "outputs": [],
   "source": [
    "files = glob.glob('datos/Ventas/*.txt')\n",
    "df =  pd.concat((pd.read_csv(file) for file in files))\n",
    "df=df.dropna(axis='rows',how='any')\n",
    "df=df[df['Quantity Ordered']!='Quantity Ordered']"
   ]
  },
  {
   "cell_type": "markdown",
   "metadata": {},
   "source": [
    "<div class=\"alert alert-success\">\n",
    "    \n",
    "1. Encuentre el número de productos que se adquirieron en Los Angeles, CA\n",
    "    \n",
    "</div> "
   ]
  },
  {
   "cell_type": "code",
   "execution_count": 5,
   "metadata": {},
   "outputs": [
    {
     "data": {
      "text/plain": [
       "Index(['Order ID', 'Product', 'Quantity Ordered', 'Price Each', 'Order Date',\n",
       "       'Purchase Address'],\n",
       "      dtype='object')"
      ]
     },
     "execution_count": 5,
     "metadata": {},
     "output_type": "execute_result"
    }
   ],
   "source": [
    "df.columns"
   ]
  },
  {
   "cell_type": "code",
   "execution_count": 15,
   "metadata": {},
   "outputs": [
    {
     "name": "stdout",
     "output_type": "stream",
     "text": [
      "La cantidad de productos adquiridos desde LA es = 33289\n"
     ]
    }
   ],
   "source": [
    "df_LA = df[df['Purchase Address'].str.contains('Los Angeles', case=False)]\n",
    "total = df_LA['Quantity Ordered'].astype(int).sum()\n",
    "print('La cantidad de productos adquiridos desde LA es =', total)"
   ]
  },
  {
   "cell_type": "markdown",
   "metadata": {},
   "source": [
    "<div class=\"alert alert-success\">\n",
    "    \n",
    "2. ¿Cuántos iPhone se vendieron?\n",
    "\n",
    "    \n",
    "</div> "
   ]
  },
  {
   "cell_type": "code",
   "execution_count": 38,
   "metadata": {},
   "outputs": [
    {
     "name": "stdout",
     "output_type": "stream",
     "text": [
      "Total de iPhone vendidos = 6849\n"
     ]
    }
   ],
   "source": [
    "df_iphone=df[df['Product']=='iPhone']\n",
    "print('Total de iPhone vendidos =', df_iphone['Quantity Ordered'].astype(int).sum())"
   ]
  },
  {
   "cell_type": "markdown",
   "metadata": {},
   "source": [
    "<div class=\"alert alert-success\">\n",
    "    \n",
    "3. ¿Cuánto fue su ganancia por venta de baterías? \n",
    "    \n",
    "</div> "
   ]
  },
  {
   "cell_type": "code",
   "execution_count": 35,
   "metadata": {},
   "outputs": [
    {
     "name": "stdout",
     "output_type": "stream",
     "text": [
      "Ganancia por venta de baterías = 198859.23\n"
     ]
    }
   ],
   "source": [
    "df_batteries = df[df['Product'].str.contains('Batteries', case=False)].copy()\n",
    "df_batteries['Total'] = df_batteries['Quantity Ordered'].astype(int) * df_batteries['Price Each'].astype(float)\n",
    "print('Ganancia por venta de baterías =', df_batteries['Total'].sum())"
   ]
  },
  {
   "cell_type": "markdown",
   "metadata": {},
   "source": [
    "<div class=\"alert alert-success\">\n",
    "    \n",
    "4. ¿Cuál fue el código postal que más ordenes realizó?\n",
    "\n",
    "    \n",
    "</div> "
   ]
  },
  {
   "cell_type": "code",
   "execution_count": 69,
   "metadata": {},
   "outputs": [
    {
     "data": {
      "text/plain": [
       "Postal Code    94016\n",
       "count          44732\n",
       "Name: 0, dtype: object"
      ]
     },
     "execution_count": 69,
     "metadata": {},
     "output_type": "execute_result"
    }
   ],
   "source": [
    "df['Postal Code'] = df['Purchase Address'].str.split(' ').str[-1].str.strip()\n",
    "df['Postal Code'].value_counts().reset_index().loc[0]"
   ]
  },
  {
   "cell_type": "markdown",
   "metadata": {},
   "source": [
    "<div class=\"alert alert-success\">\n",
    "    \n",
    "5.  a) ¿Cuál fue el producto con más ganancias?\n",
    "    \n",
    "    b) ¿Cuál fue el producto con más unidades vendidas?\n",
    "\n",
    "    \n",
    "</div> "
   ]
  },
  {
   "cell_type": "code",
   "execution_count": 87,
   "metadata": {},
   "outputs": [
    {
     "data": {
      "text/plain": [
       "Product    Macbook Pro Laptop\n",
       "Total               8037600.0\n",
       "Name: 0, dtype: object"
      ]
     },
     "execution_count": 87,
     "metadata": {},
     "output_type": "execute_result"
    }
   ],
   "source": [
    "# a) ¿Cuál fue el producto con más ganancias?\n",
    "df['Total'] = df['Quantity Ordered'].astype(int) * df['Price Each'].astype(float)\n",
    "df.groupby('Product')['Total'].sum().sort_values(ascending=False).reset_index().loc[0]"
   ]
  },
  {
   "cell_type": "code",
   "execution_count": 93,
   "metadata": {},
   "outputs": [
    {
     "data": {
      "text/plain": [
       "Product             AAA Batteries (4-pack)\n",
       "Quantity Ordered                     31017\n",
       "Name: 0, dtype: object"
      ]
     },
     "execution_count": 93,
     "metadata": {},
     "output_type": "execute_result"
    }
   ],
   "source": [
    "# b) ¿Cuál fue el producto con más unidades vendidas?\n",
    "df['Quantity Ordered'] = pd.to_numeric(df['Quantity Ordered'], errors='coerce')\n",
    "df.groupby('Product')['Quantity Ordered'].sum().sort_values(ascending=False).reset_index().loc[0]"
   ]
  },
  {
   "cell_type": "markdown",
   "metadata": {},
   "source": [
    "<div class=\"alert alert-success\">\n",
    "    \n",
    "6. ¿Cuales son los 5 productos más vendidos?     \n",
    "</div> "
   ]
  },
  {
   "cell_type": "code",
   "execution_count": 91,
   "metadata": {},
   "outputs": [
    {
     "data": {
      "text/html": [
       "<div>\n",
       "<style scoped>\n",
       "    .dataframe tbody tr th:only-of-type {\n",
       "        vertical-align: middle;\n",
       "    }\n",
       "\n",
       "    .dataframe tbody tr th {\n",
       "        vertical-align: top;\n",
       "    }\n",
       "\n",
       "    .dataframe thead th {\n",
       "        text-align: right;\n",
       "    }\n",
       "</style>\n",
       "<table border=\"1\" class=\"dataframe\">\n",
       "  <thead>\n",
       "    <tr style=\"text-align: right;\">\n",
       "      <th></th>\n",
       "      <th>Product</th>\n",
       "      <th>Quantity Ordered</th>\n",
       "    </tr>\n",
       "  </thead>\n",
       "  <tbody>\n",
       "    <tr>\n",
       "      <th>0</th>\n",
       "      <td>AAA Batteries (4-pack)</td>\n",
       "      <td>31017</td>\n",
       "    </tr>\n",
       "    <tr>\n",
       "      <th>1</th>\n",
       "      <td>AA Batteries (4-pack)</td>\n",
       "      <td>27635</td>\n",
       "    </tr>\n",
       "    <tr>\n",
       "      <th>2</th>\n",
       "      <td>USB-C Charging Cable</td>\n",
       "      <td>23975</td>\n",
       "    </tr>\n",
       "    <tr>\n",
       "      <th>3</th>\n",
       "      <td>Lightning Charging Cable</td>\n",
       "      <td>23217</td>\n",
       "    </tr>\n",
       "    <tr>\n",
       "      <th>4</th>\n",
       "      <td>Wired Headphones</td>\n",
       "      <td>20557</td>\n",
       "    </tr>\n",
       "  </tbody>\n",
       "</table>\n",
       "</div>"
      ],
      "text/plain": [
       "                    Product  Quantity Ordered\n",
       "0    AAA Batteries (4-pack)             31017\n",
       "1     AA Batteries (4-pack)             27635\n",
       "2      USB-C Charging Cable             23975\n",
       "3  Lightning Charging Cable             23217\n",
       "4          Wired Headphones             20557"
      ]
     },
     "execution_count": 91,
     "metadata": {},
     "output_type": "execute_result"
    }
   ],
   "source": [
    "df['Quantity Ordered'] = pd.to_numeric(df['Quantity Ordered'], errors='coerce')\n",
    "df.groupby('Product')['Quantity Ordered'].sum().sort_values(ascending=False).reset_index().iloc[:5]"
   ]
  },
  {
   "cell_type": "markdown",
   "metadata": {},
   "source": [
    "<div class=\"alert alert-success\">\n",
    "    \n",
    "7.  ¿Cuales son los 5 productos con las ganancias más altas?\n",
    "\n",
    "    \n",
    "</div> "
   ]
  },
  {
   "cell_type": "code",
   "execution_count": 94,
   "metadata": {},
   "outputs": [
    {
     "data": {
      "text/html": [
       "<div>\n",
       "<style scoped>\n",
       "    .dataframe tbody tr th:only-of-type {\n",
       "        vertical-align: middle;\n",
       "    }\n",
       "\n",
       "    .dataframe tbody tr th {\n",
       "        vertical-align: top;\n",
       "    }\n",
       "\n",
       "    .dataframe thead th {\n",
       "        text-align: right;\n",
       "    }\n",
       "</style>\n",
       "<table border=\"1\" class=\"dataframe\">\n",
       "  <thead>\n",
       "    <tr style=\"text-align: right;\">\n",
       "      <th></th>\n",
       "      <th>Product</th>\n",
       "      <th>Total</th>\n",
       "    </tr>\n",
       "  </thead>\n",
       "  <tbody>\n",
       "    <tr>\n",
       "      <th>0</th>\n",
       "      <td>Macbook Pro Laptop</td>\n",
       "      <td>8037600.00</td>\n",
       "    </tr>\n",
       "    <tr>\n",
       "      <th>1</th>\n",
       "      <td>iPhone</td>\n",
       "      <td>4794300.00</td>\n",
       "    </tr>\n",
       "    <tr>\n",
       "      <th>2</th>\n",
       "      <td>ThinkPad Laptop</td>\n",
       "      <td>4129958.70</td>\n",
       "    </tr>\n",
       "    <tr>\n",
       "      <th>3</th>\n",
       "      <td>Google Phone</td>\n",
       "      <td>3319200.00</td>\n",
       "    </tr>\n",
       "    <tr>\n",
       "      <th>4</th>\n",
       "      <td>27in 4K Gaming Monitor</td>\n",
       "      <td>2435097.56</td>\n",
       "    </tr>\n",
       "  </tbody>\n",
       "</table>\n",
       "</div>"
      ],
      "text/plain": [
       "                  Product       Total\n",
       "0      Macbook Pro Laptop  8037600.00\n",
       "1                  iPhone  4794300.00\n",
       "2         ThinkPad Laptop  4129958.70\n",
       "3            Google Phone  3319200.00\n",
       "4  27in 4K Gaming Monitor  2435097.56"
      ]
     },
     "execution_count": 94,
     "metadata": {},
     "output_type": "execute_result"
    }
   ],
   "source": [
    "df['Total'] = df['Quantity Ordered'].astype(int) * df['Price Each'].astype(float)\n",
    "df.groupby('Product')['Total'].sum().sort_values(ascending=False).reset_index().iloc[:5]"
   ]
  },
  {
   "cell_type": "markdown",
   "metadata": {},
   "source": [
    "<div class=\"alert alert-success\">\n",
    "    \n",
    "8. ¿A qué hora recomendaría mostrar anuncios para maximizar la probabilidad de que el cliente compre un producto?     \n",
    "</div> "
   ]
  },
  {
   "cell_type": "code",
   "execution_count": 19,
   "metadata": {},
   "outputs": [],
   "source": [
    "#Convirtiendo la columna 'Order Date' y colocándola como el índice\n",
    "df['Order Date'] = pd.to_datetime(df['Order Date'], format='%m/%d/%y %H:%M')\n",
    "df = df.set_index('Order Date')"
   ]
  },
  {
   "cell_type": "code",
   "execution_count": 31,
   "metadata": {},
   "outputs": [
    {
     "data": {
      "image/png": "[encoded data removed]",
      "text/plain": [
       "<Figure size 1000x500 with 1 Axes>"
      ]
     },
     "metadata": {},
     "output_type": "display_data"
    }
   ],
   "source": [
    "compras_hora=df.groupby(df.index.hour).size()\n",
    "compras_hora.plot(kind='bar', figsize=(10, 5))\n",
    "plt.title('Compras por Hora')\n",
    "plt.xlabel('Hora del Día')\n",
    "plt.ylabel('Número de Compras')\n",
    "plt.show()"
   ]
  },
  {
   "cell_type": "markdown",
   "metadata": {},
   "source": [
    "Observando la gráfica, es posible notar que las horas más activas en la tienda son las 12 del día y las 7 de la noche, mostrar anuncios a esas horas podría maximizar la probabilidad de que el cliente compre un producto."
   ]
  },
  {
   "cell_type": "markdown",
   "metadata": {},
   "source": [
    "<div class=\"alert alert-success\">\n",
    "    \n",
    " 9. \n",
    "    a) ¿Cuál es el día de más ganancias por cada mes?\n",
    "    \n",
    "    b) ¿Cuál es el mes con más ganancias y el de menos ganancias?\n",
    "    \n",
    "</div> "
   ]
  },
  {
   "cell_type": "code",
   "execution_count": 73,
   "metadata": {},
   "outputs": [
    {
     "data": {
      "text/plain": [
       "Order Date\n",
       "1     11-Jan\n",
       "2     08-Feb\n",
       "3     22-Mar\n",
       "4     24-Apr\n",
       "5     26-May\n",
       "6     09-Jun\n",
       "7     21-Jul\n",
       "8     10-Aug\n",
       "9     09-Sep\n",
       "10    06-Oct\n",
       "11    24-Nov\n",
       "12    04-Dec\n",
       "Name: Total, dtype: object"
      ]
     },
     "execution_count": 73,
     "metadata": {},
     "output_type": "execute_result"
    }
   ],
   "source": [
    "# a) ¿Cuál es el día de más ganancias por cada mes?\n",
    "df['Total'] = df['Quantity Ordered'].astype(int) * df['Price Each'].astype(float)\n",
    "ganancias_dia = df['Total'].resample('d').sum()\n",
    "ganancias_mes = ganancias_dia.groupby(ganancias_dia.index.month).idxmax().dt.strftime('%d-%b')\n",
    "ganancias_mes"
   ]
  },
  {
   "cell_type": "code",
   "execution_count": 76,
   "metadata": {},
   "outputs": [
    {
     "data": {
      "image/png": "[encoded data removed]",
      "text/plain": [
       "<Figure size 1000x600 with 1 Axes>"
      ]
     },
     "metadata": {},
     "output_type": "display_data"
    }
   ],
   "source": [
    "# b) ¿Cuál es el mes con más ganancias y el de menos ganancias?\n",
    "ganancias_mes = ganancias_dia.groupby(ganancias_dia.index.month).max()\n",
    "plt.figure(figsize=(10, 6))\n",
    "ganancias_mes.plot(kind='bar', color='skyblue')\n",
    "plt.title('Ganancias por Mes')\n",
    "plt.xlabel('Mes')\n",
    "plt.ylabel('Ganancias')\n",
    "plt.show()"
   ]
  },
  {
   "cell_type": "markdown",
   "metadata": {},
   "source": [
    "<div class=\"alert alert-success\">\n",
    "    \n",
    "10. ¿Cuál fue el producto más comprado en San Francisco, CA\n",
    "    \n",
    "</div> "
   ]
  },
  {
   "cell_type": "code",
   "execution_count": 103,
   "metadata": {},
   "outputs": [
    {
     "data": {
      "text/plain": [
       "Product             AAA Batteries (4-pack)\n",
       "Quantity Ordered                      7408\n",
       "Name: 0, dtype: object"
      ]
     },
     "execution_count": 103,
     "metadata": {},
     "output_type": "execute_result"
    }
   ],
   "source": [
    "df_fco = df[df['Purchase Address'].str.contains('San Francisco', case=False)].copy()\n",
    "df_fco['Quantity Ordered'] = pd.to_numeric(df_fco['Quantity Ordered'], errors='coerce')\n",
    "df_fco.groupby('Product')['Quantity Ordered'].sum().sort_values(ascending=False).reset_index().iloc[0]"
   ]
  },
  {
   "cell_type": "markdown",
   "metadata": {},
   "source": [
    "<div class=\"alert alert-success\">\n",
    "    \n",
    "11. Escribir una conclusión del ejercicio (ventajas de usar pandas, herramientas mas utilizadas en este ejercicio, etc). \n",
    "    \n",
    "</div> "
   ]
  },
  {
   "cell_type": "markdown",
   "metadata": {},
   "source": [
    "Realizando los ejercicios pusimos en práctica conocimientos adquiridos de los temas visto hasta ahora. Empleando Pandas el manejo de los datos y las operaciones realizadas en ellos es más fácil; también se hizo uso de una nueva librería (glob), con la que fue posible encontrar los archivos que coincidan con el patrón especificado; así mismo se realizaron diferentes operaciones de agrupación y ordenamiento para obtener datos específicos, y en algunos casos se graficaron para una mejor visualización."
   ]
  },
  {
   "cell_type": "code",
   "execution_count": null,
   "metadata": {},
   "outputs": [],
   "source": []
  }
 ],
 "metadata": {
  "kernelspec": {
   "display_name": "Python 3 (ipykernel)",
   "language": "python",
   "name": "python3"
  },
  "language_info": {
   "codemirror_mode": {
    "name": "ipython",
    "version": 3
   },
   "file_extension": ".py",
   "mimetype": "text/x-python",
   "name": "python",
   "nbconvert_exporter": "python",
   "pygments_lexer": "ipython3",
   "version": "3.10.1"
  }
 },
 "nbformat": 4,
 "nbformat_minor": 4
}
