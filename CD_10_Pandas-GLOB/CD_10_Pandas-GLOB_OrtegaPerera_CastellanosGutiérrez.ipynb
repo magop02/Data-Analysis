{
 "cells": [
  {
   "cell_type": "markdown",
   "metadata": {},
   "source": [
    "<!--Información del curso-->\n",
    "<img align=\"left\" style=\"padding-right:10px;\" src=\"figuras/logo_ciencia_datos.png\">"
   ]
  },
  {
   "cell_type": "markdown",
   "metadata": {},
   "source": [
    "<center><h1 style=\"font-size:2em;color:#2467C0\"> Pandas y GLOB  </h1></center>\n",
    "\n",
    "<center><h2 style=\"font-size:2em;color:#840700\">   Manipulación de archivos con GLOB </h4></center>\n",
    "\n",
    "<br>\n",
    "<table>\n",
    "<col width=\"250\">\n",
    "<col width=\"750\">\n",
    "<tr>\n",
    "<td><img src=\"figuras/glob.png\" align=\"left\" style=\"width:150px\"/></td>\n",
    "<td>\n",
    "\n",
    "La función **glob.glob()** devuelve una lista con las entradas que coincidan con el patrón especificado en *pathname*.\n",
    "\n",
    "**glob.glob( *pathname* , recursive=False)** \n",
    "    \n",
    "<br>\n",
    "</td>\n",
    "</tr>\n",
    "</table>"
   ]
  },
  {
   "cell_type": "markdown",
   "metadata": {},
   "source": [
    "## Integrantes\n",
    "\n",
    "Nombre 1: María de Guadalupe Ortega Perera\n",
    "\n",
    "Nombre 2: Enrique Yair Castellanos Gutiérrez"
   ]
  },
  {
   "cell_type": "markdown",
   "metadata": {},
   "source": [
    "# Librerías\n",
    "\n",
    "Cargando las bibliotecas que necesitamos \n"
   ]
  },
  {
   "cell_type": "code",
   "execution_count": 2,
   "metadata": {},
   "outputs": [],
   "source": [
    "import pandas as pd\n",
    "import numpy as np\n",
    "import matplotlib.pyplot as plt\n",
    "import glob"
   ]
  },
  {
   "cell_type": "markdown",
   "metadata": {},
   "source": [
    "## Mostrando todos los archivos de \"/datos\"\n",
    "\n",
    "La salida serán los archivos en forma de lista"
   ]
  },
  {
   "cell_type": "code",
   "execution_count": 3,
   "metadata": {},
   "outputs": [
    {
     "data": {
      "text/plain": [
       "['datos\\\\informacion.txt',\n",
       " 'datos\\\\semestre1a.csv',\n",
       " 'datos\\\\semestre1b.csv',\n",
       " 'datos\\\\semestre1c.csv',\n",
       " 'datos\\\\semestre2a.csv',\n",
       " 'datos\\\\semestre2b.csv',\n",
       " 'datos\\\\semestre2c.csv',\n",
       " 'datos\\\\semestre3a.csv',\n",
       " 'datos\\\\semestre3b.csv',\n",
       " 'datos\\\\semestre3c.csv',\n",
       " 'datos\\\\semestres.txt',\n",
       " 'datos\\\\Ventas']"
      ]
     },
     "execution_count": 3,
     "metadata": {},
     "output_type": "execute_result"
    }
   ],
   "source": [
    "# establecer ruta de búsqueda  \n",
    "path = 'datos' #Definir una variable\n",
    "files = glob.glob(path + '/*') #todos los archivos\n",
    "files"
   ]
  },
  {
   "cell_type": "markdown",
   "metadata": {},
   "source": [
    "## Mostrando  los archivos  **.txt** de \"/datos\"\n",
    "\n",
    "La salida serán los archivos .txt en forma de lista"
   ]
  },
  {
   "cell_type": "code",
   "execution_count": 4,
   "metadata": {},
   "outputs": [
    {
     "data": {
      "text/plain": [
       "['datos\\\\informacion.txt', 'datos\\\\semestres.txt']"
      ]
     },
     "execution_count": 4,
     "metadata": {},
     "output_type": "execute_result"
    }
   ],
   "source": [
    "# establecer ruta de búsqueda  \n",
    "# aquí queremos buscar archivos txt  \n",
    "path = 'datos'\n",
    "files = glob.glob(path + '/*.txt')\n",
    "files"
   ]
  },
  {
   "cell_type": "markdown",
   "metadata": {},
   "source": [
    "## Mostrando  los archivos .csv de \"/datos\"\n",
    "\n",
    "La salida serán los archivos .csv en forma de lista"
   ]
  },
  {
   "cell_type": "code",
   "execution_count": 5,
   "metadata": {},
   "outputs": [
    {
     "data": {
      "text/plain": [
       "['datos\\\\semestre1a.csv',\n",
       " 'datos\\\\semestre1b.csv',\n",
       " 'datos\\\\semestre1c.csv',\n",
       " 'datos\\\\semestre2a.csv',\n",
       " 'datos\\\\semestre2b.csv',\n",
       " 'datos\\\\semestre2c.csv',\n",
       " 'datos\\\\semestre3a.csv',\n",
       " 'datos\\\\semestre3b.csv',\n",
       " 'datos\\\\semestre3c.csv']"
      ]
     },
     "execution_count": 5,
     "metadata": {},
     "output_type": "execute_result"
    }
   ],
   "source": [
    "# establecer ruta de búsqueda  \n",
    "# aquí queremos buscar archivos csv  \n",
    "path = 'datos'\n",
    "files = glob.glob(path + '/*.csv')\n",
    "files"
   ]
  },
  {
   "cell_type": "markdown",
   "metadata": {},
   "source": [
    "## Concatenando todos los archivos .csv para formar un dataframe\n"
   ]
  },
  {
   "cell_type": "code",
   "execution_count": 10,
   "metadata": {},
   "outputs": [
    {
     "name": "stdout",
     "output_type": "stream",
     "text": [
      "['datos\\\\semestre1a.csv', 'datos\\\\semestre1b.csv', 'datos\\\\semestre1c.csv', 'datos\\\\semestre2a.csv', 'datos\\\\semestre2b.csv', 'datos\\\\semestre2c.csv', 'datos\\\\semestre3a.csv', 'datos\\\\semestre3b.csv', 'datos\\\\semestre3c.csv']\n",
      "(10, 5)\n",
      "(11, 5)\n",
      "(11, 5)\n",
      "(7, 5)\n",
      "(7, 5)\n",
      "(7, 5)\n",
      "(5, 5)\n",
      "(6, 5)\n",
      "(5, 5)\n",
      "Final= (69, 5)\n"
     ]
    }
   ],
   "source": [
    "# establecer ruta de búsqueda  \n",
    "# aquí queremos buscar archivos csv  \n",
    "path = 'datos'\n",
    "files = glob.glob(path + '/*.csv')\n",
    "print(files)\n",
    "# crear una lista vacía para almacenar  los dataframes\n",
    "lista_dfs=[]\n",
    "# recorrer la lista de archivos para crear la lista de archivos \n",
    "for file in files:\n",
    "    temp_df = pd.read_csv(file)\n",
    "    print(temp_df.shape) #despliega las filas y columnas de los dataframes\n",
    "    lista_dfs.append(temp_df)\n",
    "\n",
    "# concatenación\n",
    "df = pd.concat(lista_dfs, axis=0)\n",
    "df.head()\n",
    "print('Final=', df.shape) #total de filas de los datoframes \n"
   ]
  },
  {
   "cell_type": "markdown",
   "metadata": {},
   "source": [
    "## Concatenando los archivos .csv del primer semestre \n",
    "\n",
    "El comodín * representa desde nada, hasta cualquier cantidad de caracteres y dígitos"
   ]
  },
  {
   "cell_type": "code",
   "execution_count": 13,
   "metadata": {},
   "outputs": [
    {
     "name": "stdout",
     "output_type": "stream",
     "text": [
      "(10, 5)\n",
      "(11, 5)\n",
      "(11, 5)\n",
      "Final= (32, 5)\n"
     ]
    }
   ],
   "source": [
    "# establecer ruta de búsqueda  \n",
    "# aquí queremos buscar archivos csv  \n",
    "path = 'datos'\n",
    "files = glob.glob(path + '/semestre1*.csv') #'*' --> varios caracteres\n",
    "#files = glob.glob(path + '/semestre1?.csv') --> se obtiene la misma salida, '?' solo un caracter\n",
    "files\n",
    "# crear una lista vacía para almacenar  los dataframes\n",
    "lista_dfs=[]\n",
    "# recorrer la lista de archivos para crear la lista de archivos \n",
    "for file in files:\n",
    "    temp_df = pd.read_csv(file)\n",
    "    print(temp_df.shape) #despliega las filas y columnas de los dataframes\n",
    "    lista_dfs.append(temp_df)\n",
    "\n",
    "# concatenación\n",
    "df = pd.concat(lista_dfs, axis=0)\n",
    "df.head()\n",
    "print('Final=', df.shape)"
   ]
  },
  {
   "cell_type": "markdown",
   "metadata": {},
   "source": [
    "## Concatenando los archivos .csv del primer y segundo semestre \n",
    "\n",
    "El comodín **[ ]**  representa un rango,  ya sea de caracteres o de números. "
   ]
  },
  {
   "cell_type": "code",
   "execution_count": 15,
   "metadata": {},
   "outputs": [
    {
     "name": "stdout",
     "output_type": "stream",
     "text": [
      "(10, 5)\n",
      "(11, 5)\n",
      "(11, 5)\n",
      "(7, 5)\n",
      "(7, 5)\n",
      "(7, 5)\n",
      "Final= (53, 5)\n"
     ]
    }
   ],
   "source": [
    "# establecer ruta de búsqueda  \n",
    "# aquí queremos buscar archivos csv  \n",
    "path = 'datos'\n",
    "files = glob.glob(path + '/semestre[1-2]?.csv') #'/semestre[1-2]*'\n",
    "files\n",
    "# crear una lista vacía para almacenar  los dataframes\n",
    "lista_dfs=[]\n",
    "# recorrer la lista de archivos para crear la lista de archivos \n",
    "for file in files:\n",
    "    temp_df = pd.read_csv(file)\n",
    "    print(temp_df.shape) #despliega las filas y columnas de los dataframes\n",
    "    lista_dfs.append(temp_df)\n",
    "\n",
    "# concatenación\n",
    "df = pd.concat(lista_dfs, axis=0)\n",
    "df.head()\n",
    "print('Final=', df.shape)\n"
   ]
  },
  {
   "cell_type": "markdown",
   "metadata": {},
   "source": [
    "## Concatenando los archivos .csv de los grupos \"a\"\n",
    "El comodín **?** Representa un único carácter."
   ]
  },
  {
   "cell_type": "code",
   "execution_count": 17,
   "metadata": {},
   "outputs": [
    {
     "name": "stdout",
     "output_type": "stream",
     "text": [
      "(10, 5)\n",
      "(7, 5)\n",
      "(5, 5)\n",
      "Final= (22, 5)\n"
     ]
    }
   ],
   "source": [
    "# establecer ruta de búsqueda  \n",
    "# aquí queremos buscar archivos csv  \n",
    "path = 'datos'\n",
    "files = glob.glob(path + '/semestre?a.csv')\n",
    "files\n",
    "\n",
    "# crear una lista vacía para almacenar  los dataframes\n",
    "lista_dfs=[]\n",
    "\n",
    "# recorrer la lista de archivos para crear la lista de archivos \n",
    "for file in files:\n",
    "    temp_df = pd.read_csv(file)\n",
    "    print(temp_df.shape) #despliega las filas y columnas de los dataframes\n",
    "    lista_dfs.append(temp_df)\n",
    "\n",
    "# concatenación\n",
    "df = pd.concat(lista_dfs, axis=0)\n",
    "df.head()\n",
    "print('Final=', df.shape)\n"
   ]
  },
  {
   "cell_type": "markdown",
   "metadata": {},
   "source": [
    "## Concatenando los archivos .csv de los grupos \"a\" y \"b\"\n",
    "\n",
    "El comodín **[ ]**  representa un rango,  ya sea de caracteres o de números. "
   ]
  },
  {
   "cell_type": "code",
   "execution_count": 20,
   "metadata": {},
   "outputs": [
    {
     "name": "stdout",
     "output_type": "stream",
     "text": [
      "(10, 5)\n",
      "(11, 5)\n",
      "(7, 5)\n",
      "(7, 5)\n",
      "(5, 5)\n",
      "(6, 5)\n",
      "Final= (46, 5)\n"
     ]
    }
   ],
   "source": [
    "# establecer ruta de búsqueda  \n",
    "# aquí queremos buscar archivos csv  \n",
    "path = 'datos'\n",
    "files = glob.glob(path + '/semestre?[a-b].csv')\n",
    "files\n",
    "\n",
    "# crear una lista vacía para almacenar  los dataframes\n",
    "lista_dfs=[]\n",
    "\n",
    "# recorrer la lista de archivos para crear la lista de archivos \n",
    "for file in files:\n",
    "    temp_df = pd.read_csv(file) #variable temporal\n",
    "    print(temp_df.shape) #despliega las filas y columnas de los dataframes\n",
    "    lista_dfs.append(temp_df)\n",
    "\n",
    "# concatenación\n",
    "df = pd.concat(lista_dfs, axis=0)\n",
    "df.head()\n",
    "print('Final=', df.shape) "
   ]
  },
  {
   "cell_type": "markdown",
   "metadata": {},
   "source": [
    "# TAREA"
   ]
  },
  {
   "cell_type": "markdown",
   "metadata": {},
   "source": [
    "<div class=\"alert alert-success\">\n",
    "<b>EJERCICIO 1: Concatenar todos los archivos  .csv  </b>:\n",
    "\n",
    " <ul>\n",
    "  <li> a) Encontrar el promedio y   desviación estándar  </li>\n",
    "  <li> b) Datos del estudiante(s) con la calificación más alta </li>   \n",
    "  <li> c) Datos del estudiante(s) con la calificación más baja </li>  \n",
    "  <li> d) El nombre que más se repite </li>  \n",
    "  <li> e) El apellido que más se repite </li>       \n",
    "     \n",
    "</ul>\n",
    "</div>"
   ]
  },
  {
   "cell_type": "code",
   "execution_count": 8,
   "metadata": {},
   "outputs": [
    {
     "name": "stdout",
     "output_type": "stream",
     "text": [
      "['datos\\\\semestre1a.csv', 'datos\\\\semestre1b.csv', 'datos\\\\semestre1c.csv', 'datos\\\\semestre2a.csv', 'datos\\\\semestre2b.csv', 'datos\\\\semestre2c.csv', 'datos\\\\semestre3a.csv', 'datos\\\\semestre3b.csv', 'datos\\\\semestre3c.csv']\n",
      "Final= (69, 5)\n"
     ]
    }
   ],
   "source": [
    "#Concatenando archivos csv\n",
    "path = 'datos'\n",
    "files = glob.glob(path + '/*.csv')\n",
    "print(files)\n",
    "\n",
    "# crear una lista vacía para almacenar  los dataframes\n",
    "lista_dfs=[]\n",
    "\n",
    "# recorrer la lista de archivos para crear la lista de archivos \n",
    "for file in files:\n",
    "    temp_df = pd.read_csv(file)\n",
    "    lista_dfs.append(temp_df)\n",
    "\n",
    "# concatenación\n",
    "df = pd.concat(lista_dfs, axis=0)\n",
    "df.head()\n",
    "print('Final=', df.shape) #total de filas de los datoframes "
   ]
  },
  {
   "cell_type": "code",
   "execution_count": 11,
   "metadata": {},
   "outputs": [
    {
     "name": "stdout",
     "output_type": "stream",
     "text": [
      "Promedio = 81.72463768115942\n",
      "Desviación estándar = 18.72391052196206\n"
     ]
    }
   ],
   "source": [
    "# a) Encontrar el promedio y desviación estándar\n",
    "print('Promedio =', df['CALIFICACION'].mean())\n",
    "print('Desviación estándar =', df['CALIFICACION'].std())"
   ]
  },
  {
   "cell_type": "code",
   "execution_count": 14,
   "metadata": {},
   "outputs": [
    {
     "data": {
      "text/html": [
       "<div>\n",
       "<style scoped>\n",
       "    .dataframe tbody tr th:only-of-type {\n",
       "        vertical-align: middle;\n",
       "    }\n",
       "\n",
       "    .dataframe tbody tr th {\n",
       "        vertical-align: top;\n",
       "    }\n",
       "\n",
       "    .dataframe thead th {\n",
       "        text-align: right;\n",
       "    }\n",
       "</style>\n",
       "<table border=\"1\" class=\"dataframe\">\n",
       "  <thead>\n",
       "    <tr style=\"text-align: right;\">\n",
       "      <th></th>\n",
       "      <th>NOMBRE</th>\n",
       "      <th>APELLIDO</th>\n",
       "      <th>CALIFICACION</th>\n",
       "      <th>CARRERA</th>\n",
       "      <th>CIUDAD</th>\n",
       "    </tr>\n",
       "  </thead>\n",
       "  <tbody>\n",
       "    <tr>\n",
       "      <th>2</th>\n",
       "      <td>RICK</td>\n",
       "      <td>SANCHEZ</td>\n",
       "      <td>100</td>\n",
       "      <td>FISICA</td>\n",
       "      <td>MERIDA</td>\n",
       "    </tr>\n",
       "    <tr>\n",
       "      <th>1</th>\n",
       "      <td>JUAN</td>\n",
       "      <td>BALAM</td>\n",
       "      <td>100</td>\n",
       "      <td>FISICA</td>\n",
       "      <td>MOTUL</td>\n",
       "    </tr>\n",
       "    <tr>\n",
       "      <th>7</th>\n",
       "      <td>PEDRO</td>\n",
       "      <td>ALARCON</td>\n",
       "      <td>99</td>\n",
       "      <td>RENOVABLES</td>\n",
       "      <td>KANASIN</td>\n",
       "    </tr>\n",
       "    <tr>\n",
       "      <th>1</th>\n",
       "      <td>MARTIN</td>\n",
       "      <td>CANO</td>\n",
       "      <td>99</td>\n",
       "      <td>FISICA</td>\n",
       "      <td>TICUL</td>\n",
       "    </tr>\n",
       "    <tr>\n",
       "      <th>4</th>\n",
       "      <td>PEDRO</td>\n",
       "      <td>MARIN</td>\n",
       "      <td>98</td>\n",
       "      <td>MECATRONICA</td>\n",
       "      <td>MERIDA</td>\n",
       "    </tr>\n",
       "  </tbody>\n",
       "</table>\n",
       "</div>"
      ],
      "text/plain": [
       "   NOMBRE APELLIDO  CALIFICACION      CARRERA   CIUDAD\n",
       "2    RICK  SANCHEZ           100       FISICA   MERIDA\n",
       "1    JUAN    BALAM           100       FISICA    MOTUL\n",
       "7   PEDRO  ALARCON            99   RENOVABLES  KANASIN\n",
       "1  MARTIN     CANO            99       FISICA    TICUL\n",
       "4   PEDRO    MARIN            98  MECATRONICA   MERIDA"
      ]
     },
     "execution_count": 14,
     "metadata": {},
     "output_type": "execute_result"
    }
   ],
   "source": [
    "# b) Datos del estudiante(s) con la calificación más alta \n",
    "df.sort_values('CALIFICACION', ascending=False).head()"
   ]
  },
  {
   "cell_type": "code",
   "execution_count": 15,
   "metadata": {},
   "outputs": [
    {
     "data": {
      "text/html": [
       "<div>\n",
       "<style scoped>\n",
       "    .dataframe tbody tr th:only-of-type {\n",
       "        vertical-align: middle;\n",
       "    }\n",
       "\n",
       "    .dataframe tbody tr th {\n",
       "        vertical-align: top;\n",
       "    }\n",
       "\n",
       "    .dataframe thead th {\n",
       "        text-align: right;\n",
       "    }\n",
       "</style>\n",
       "<table border=\"1\" class=\"dataframe\">\n",
       "  <thead>\n",
       "    <tr style=\"text-align: right;\">\n",
       "      <th></th>\n",
       "      <th>NOMBRE</th>\n",
       "      <th>APELLIDO</th>\n",
       "      <th>CALIFICACION</th>\n",
       "      <th>CARRERA</th>\n",
       "      <th>CIUDAD</th>\n",
       "    </tr>\n",
       "  </thead>\n",
       "  <tbody>\n",
       "    <tr>\n",
       "      <th>6</th>\n",
       "      <td>VICENTE</td>\n",
       "      <td>CABALLERO</td>\n",
       "      <td>8</td>\n",
       "      <td>MECATRONICA</td>\n",
       "      <td>MERIDA</td>\n",
       "    </tr>\n",
       "    <tr>\n",
       "      <th>5</th>\n",
       "      <td>MANUEL</td>\n",
       "      <td>RODENAS</td>\n",
       "      <td>12</td>\n",
       "      <td>RENOVABLES</td>\n",
       "      <td>MERIDA</td>\n",
       "    </tr>\n",
       "    <tr>\n",
       "      <th>0</th>\n",
       "      <td>ENRIQUE</td>\n",
       "      <td>MORENO</td>\n",
       "      <td>40</td>\n",
       "      <td>RENOVABLES</td>\n",
       "      <td>MERIDA</td>\n",
       "    </tr>\n",
       "    <tr>\n",
       "      <th>1</th>\n",
       "      <td>JUAN</td>\n",
       "      <td>ARENAS</td>\n",
       "      <td>47</td>\n",
       "      <td>FISICA</td>\n",
       "      <td>MERIDA</td>\n",
       "    </tr>\n",
       "    <tr>\n",
       "      <th>8</th>\n",
       "      <td>RAUL</td>\n",
       "      <td>TORRES</td>\n",
       "      <td>52</td>\n",
       "      <td>MECATRONICA</td>\n",
       "      <td>MERIDA</td>\n",
       "    </tr>\n",
       "  </tbody>\n",
       "</table>\n",
       "</div>"
      ],
      "text/plain": [
       "    NOMBRE   APELLIDO  CALIFICACION      CARRERA  CIUDAD\n",
       "6  VICENTE  CABALLERO             8  MECATRONICA  MERIDA\n",
       "5   MANUEL    RODENAS            12   RENOVABLES  MERIDA\n",
       "0  ENRIQUE     MORENO            40   RENOVABLES  MERIDA\n",
       "1     JUAN     ARENAS            47       FISICA  MERIDA\n",
       "8     RAUL     TORRES            52  MECATRONICA  MERIDA"
      ]
     },
     "execution_count": 15,
     "metadata": {},
     "output_type": "execute_result"
    }
   ],
   "source": [
    "# c) Datos del estudiante(s) con la calificación más baja\n",
    "df.sort_values('CALIFICACION').head()"
   ]
  },
  {
   "cell_type": "code",
   "execution_count": 24,
   "metadata": {},
   "outputs": [
    {
     "data": {
      "text/plain": [
       "NOMBRE\n",
       "PEDRO    4\n",
       "MARIA    4\n",
       "Name: count, dtype: int64"
      ]
     },
     "execution_count": 24,
     "metadata": {},
     "output_type": "execute_result"
    }
   ],
   "source": [
    "# d) El nombre que más se repite \n",
    "df['NOMBRE'].value_counts().head(2)"
   ]
  },
  {
   "cell_type": "code",
   "execution_count": 27,
   "metadata": {},
   "outputs": [
    {
     "data": {
      "text/plain": [
       "APELLIDO\n",
       "BALAM    4\n",
       "MAY      4\n",
       "Name: count, dtype: int64"
      ]
     },
     "execution_count": 27,
     "metadata": {},
     "output_type": "execute_result"
    }
   ],
   "source": [
    "# e) El apellido que más se repite \n",
    "df['APELLIDO'].value_counts().head(2)"
   ]
  },
  {
   "cell_type": "markdown",
   "metadata": {},
   "source": [
    "<div class=\"alert alert-success\">\n",
    "<b>EJERCICIO 2: Concatenar todos los archivos  .csv del primer semestre </b>:\n",
    "\n",
    " <ul>\n",
    "  <li> a) Encontrar el promedio y   desviación estándar  </li>\n",
    "  <li> b) Datos del estudiante(s) con la calificación más alta </li>   \n",
    "  <li> c) Datos del estudiante(s) con la calificación más baja </li>   \n",
    "</ul>\n",
    "</div>"
   ]
  },
  {
   "cell_type": "code",
   "execution_count": 38,
   "metadata": {},
   "outputs": [
    {
     "name": "stdout",
     "output_type": "stream",
     "text": [
      "['datos\\\\semestre1a.csv', 'datos\\\\semestre1b.csv', 'datos\\\\semestre1c.csv']\n",
      "Final= (32, 5)\n"
     ]
    }
   ],
   "source": [
    "# Concatenar todos los archivos .csv del primer semestre \n",
    "path = 'datos'\n",
    "files = glob.glob(path + '/semestre1?.csv')\n",
    "print(files)\n",
    "# crear una lista vacía para almacenar  los dataframes\n",
    "lista_dfs=[]\n",
    "# recorrer la lista de archivos para crear la lista de archivos \n",
    "for file in files:\n",
    "    temp_df = pd.read_csv(file)\n",
    "    lista_dfs.append(temp_df)\n",
    "\n",
    "# concatenación\n",
    "df_psemestre = pd.concat(lista_dfs, axis=0)\n",
    "df_psemestre.head()\n",
    "print('Final=', df_psemestre.shape)"
   ]
  },
  {
   "cell_type": "code",
   "execution_count": 33,
   "metadata": {},
   "outputs": [
    {
     "name": "stdout",
     "output_type": "stream",
     "text": [
      "Promedio = 78.34375\n",
      "Desviación estándar = 20.05574388805426\n"
     ]
    }
   ],
   "source": [
    "# a) Encontrar el promedio y desviación estándar \n",
    "print('Promedio =', df_psemestre['CALIFICACION'].mean())\n",
    "print('Desviación estándar =', df_psemestre['CALIFICACION'].std())"
   ]
  },
  {
   "cell_type": "code",
   "execution_count": 34,
   "metadata": {},
   "outputs": [
    {
     "data": {
      "text/html": [
       "<div>\n",
       "<style scoped>\n",
       "    .dataframe tbody tr th:only-of-type {\n",
       "        vertical-align: middle;\n",
       "    }\n",
       "\n",
       "    .dataframe tbody tr th {\n",
       "        vertical-align: top;\n",
       "    }\n",
       "\n",
       "    .dataframe thead th {\n",
       "        text-align: right;\n",
       "    }\n",
       "</style>\n",
       "<table border=\"1\" class=\"dataframe\">\n",
       "  <thead>\n",
       "    <tr style=\"text-align: right;\">\n",
       "      <th></th>\n",
       "      <th>NOMBRE</th>\n",
       "      <th>APELLIDO</th>\n",
       "      <th>CALIFICACION</th>\n",
       "      <th>CARRERA</th>\n",
       "      <th>CIUDAD</th>\n",
       "    </tr>\n",
       "  </thead>\n",
       "  <tbody>\n",
       "    <tr>\n",
       "      <th>1</th>\n",
       "      <td>JUAN</td>\n",
       "      <td>BALAM</td>\n",
       "      <td>100</td>\n",
       "      <td>FISICA</td>\n",
       "      <td>MOTUL</td>\n",
       "    </tr>\n",
       "    <tr>\n",
       "      <th>7</th>\n",
       "      <td>PEDRO</td>\n",
       "      <td>ALARCON</td>\n",
       "      <td>99</td>\n",
       "      <td>RENOVABLES</td>\n",
       "      <td>KANASIN</td>\n",
       "    </tr>\n",
       "    <tr>\n",
       "      <th>6</th>\n",
       "      <td>JOSEFA</td>\n",
       "      <td>LOPEZ</td>\n",
       "      <td>98</td>\n",
       "      <td>MECATRONICA</td>\n",
       "      <td>MERIDA</td>\n",
       "    </tr>\n",
       "    <tr>\n",
       "      <th>0</th>\n",
       "      <td>ISMAEL</td>\n",
       "      <td>LOZANO</td>\n",
       "      <td>98</td>\n",
       "      <td>MECATRONICA</td>\n",
       "      <td>MERIDA</td>\n",
       "    </tr>\n",
       "    <tr>\n",
       "      <th>9</th>\n",
       "      <td>FRANCISCO</td>\n",
       "      <td>PECH</td>\n",
       "      <td>96</td>\n",
       "      <td>FISICA</td>\n",
       "      <td>MERIDA</td>\n",
       "    </tr>\n",
       "  </tbody>\n",
       "</table>\n",
       "</div>"
      ],
      "text/plain": [
       "      NOMBRE APELLIDO  CALIFICACION      CARRERA   CIUDAD\n",
       "1       JUAN    BALAM           100       FISICA    MOTUL\n",
       "7      PEDRO  ALARCON            99   RENOVABLES  KANASIN\n",
       "6     JOSEFA    LOPEZ            98  MECATRONICA   MERIDA\n",
       "0     ISMAEL   LOZANO            98  MECATRONICA   MERIDA\n",
       "9  FRANCISCO     PECH            96       FISICA   MERIDA"
      ]
     },
     "execution_count": 34,
     "metadata": {},
     "output_type": "execute_result"
    }
   ],
   "source": [
    "# b) Datos del estudiante(s) con la calificación más alta \n",
    "df_psemestre.sort_values('CALIFICACION', ascending=False).head()"
   ]
  },
  {
   "cell_type": "code",
   "execution_count": 35,
   "metadata": {},
   "outputs": [
    {
     "data": {
      "text/html": [
       "<div>\n",
       "<style scoped>\n",
       "    .dataframe tbody tr th:only-of-type {\n",
       "        vertical-align: middle;\n",
       "    }\n",
       "\n",
       "    .dataframe tbody tr th {\n",
       "        vertical-align: top;\n",
       "    }\n",
       "\n",
       "    .dataframe thead th {\n",
       "        text-align: right;\n",
       "    }\n",
       "</style>\n",
       "<table border=\"1\" class=\"dataframe\">\n",
       "  <thead>\n",
       "    <tr style=\"text-align: right;\">\n",
       "      <th></th>\n",
       "      <th>NOMBRE</th>\n",
       "      <th>APELLIDO</th>\n",
       "      <th>CALIFICACION</th>\n",
       "      <th>CARRERA</th>\n",
       "      <th>CIUDAD</th>\n",
       "    </tr>\n",
       "  </thead>\n",
       "  <tbody>\n",
       "    <tr>\n",
       "      <th>5</th>\n",
       "      <td>MANUEL</td>\n",
       "      <td>RODENAS</td>\n",
       "      <td>12</td>\n",
       "      <td>RENOVABLES</td>\n",
       "      <td>MERIDA</td>\n",
       "    </tr>\n",
       "    <tr>\n",
       "      <th>0</th>\n",
       "      <td>ENRIQUE</td>\n",
       "      <td>MORENO</td>\n",
       "      <td>40</td>\n",
       "      <td>RENOVABLES</td>\n",
       "      <td>MERIDA</td>\n",
       "    </tr>\n",
       "    <tr>\n",
       "      <th>8</th>\n",
       "      <td>RAUL</td>\n",
       "      <td>TORRES</td>\n",
       "      <td>52</td>\n",
       "      <td>MECATRONICA</td>\n",
       "      <td>MERIDA</td>\n",
       "    </tr>\n",
       "    <tr>\n",
       "      <th>4</th>\n",
       "      <td>PASCUAL</td>\n",
       "      <td>MAY</td>\n",
       "      <td>58</td>\n",
       "      <td>FISICA</td>\n",
       "      <td>MERIDA</td>\n",
       "    </tr>\n",
       "    <tr>\n",
       "      <th>10</th>\n",
       "      <td>ANA</td>\n",
       "      <td>NAVARRO</td>\n",
       "      <td>59</td>\n",
       "      <td>MECATRONICA</td>\n",
       "      <td>MERIDA</td>\n",
       "    </tr>\n",
       "  </tbody>\n",
       "</table>\n",
       "</div>"
      ],
      "text/plain": [
       "     NOMBRE APELLIDO  CALIFICACION      CARRERA  CIUDAD\n",
       "5    MANUEL  RODENAS            12   RENOVABLES  MERIDA\n",
       "0   ENRIQUE   MORENO            40   RENOVABLES  MERIDA\n",
       "8      RAUL   TORRES            52  MECATRONICA  MERIDA\n",
       "4   PASCUAL      MAY            58       FISICA  MERIDA\n",
       "10      ANA  NAVARRO            59  MECATRONICA  MERIDA"
      ]
     },
     "execution_count": 35,
     "metadata": {},
     "output_type": "execute_result"
    }
   ],
   "source": [
    "# c) Datos del estudiante(s) con la calificación más baja \n",
    "df_psemestre.sort_values('CALIFICACION').head()"
   ]
  },
  {
   "cell_type": "markdown",
   "metadata": {},
   "source": [
    "<div class=\"alert alert-success\">\n",
    "<b>EJERCICIO 3: Concatenar todos los archivos .csv de los grupos \"c\", es decir semestre1c, semestre2c y semestre3c </b>:\n",
    "\n",
    " <ul>\n",
    "  <li> a) Encontrar el promedio y   desviación estándar  </li>\n",
    "  <li> b) Datos del estudiante(s) con la calificación más alta </li>   \n",
    "  <li> c) Datos del estudiante(s) con la calificación más baja </li>   \n",
    "</ul>\n",
    "</div>"
   ]
  },
  {
   "cell_type": "code",
   "execution_count": 43,
   "metadata": {},
   "outputs": [
    {
     "name": "stdout",
     "output_type": "stream",
     "text": [
      "['datos\\\\semestre1c.csv', 'datos\\\\semestre2c.csv', 'datos\\\\semestre3c.csv']\n",
      "Final= (23, 5)\n"
     ]
    }
   ],
   "source": [
    "# Concatenar todos los archivos .csv de los grupos \"c\", es decir semestre1c, semestre2c y semestre3c\n",
    "path = 'datos'\n",
    "files = glob.glob(path + '/semestre?c.csv')\n",
    "print(files)\n",
    "\n",
    "# crear una lista vacía para almacenar  los dataframes\n",
    "lista_dfs=[]\n",
    "\n",
    "# recorrer la lista de archivos para crear la lista de archivos \n",
    "for file in files:\n",
    "    temp_df = pd.read_csv(file)\n",
    "    lista_dfs.append(temp_df)\n",
    "\n",
    "# concatenación\n",
    "df_gruposc = pd.concat(lista_dfs, axis=0)\n",
    "df_gruposc.head()\n",
    "print('Final=', df_gruposc.shape)"
   ]
  },
  {
   "cell_type": "code",
   "execution_count": 46,
   "metadata": {},
   "outputs": [
    {
     "name": "stdout",
     "output_type": "stream",
     "text": [
      "Promedio = 84.08695652173913\n",
      "Desviación estándar = 20.676981148299056\n"
     ]
    }
   ],
   "source": [
    "# a) Encontrar el promedio y desviación estándar\n",
    "print('Promedio =', df_gruposc['CALIFICACION'].mean())\n",
    "print('Desviación estándar =', df_gruposc['CALIFICACION'].std())"
   ]
  },
  {
   "cell_type": "code",
   "execution_count": 49,
   "metadata": {},
   "outputs": [
    {
     "data": {
      "text/html": [
       "<div>\n",
       "<style scoped>\n",
       "    .dataframe tbody tr th:only-of-type {\n",
       "        vertical-align: middle;\n",
       "    }\n",
       "\n",
       "    .dataframe tbody tr th {\n",
       "        vertical-align: top;\n",
       "    }\n",
       "\n",
       "    .dataframe thead th {\n",
       "        text-align: right;\n",
       "    }\n",
       "</style>\n",
       "<table border=\"1\" class=\"dataframe\">\n",
       "  <thead>\n",
       "    <tr style=\"text-align: right;\">\n",
       "      <th></th>\n",
       "      <th>NOMBRE</th>\n",
       "      <th>APELLIDO</th>\n",
       "      <th>CALIFICACION</th>\n",
       "      <th>CARRERA</th>\n",
       "      <th>CIUDAD</th>\n",
       "    </tr>\n",
       "  </thead>\n",
       "  <tbody>\n",
       "    <tr>\n",
       "      <th>2</th>\n",
       "      <td>RICK</td>\n",
       "      <td>SANCHEZ</td>\n",
       "      <td>100</td>\n",
       "      <td>FISICA</td>\n",
       "      <td>MERIDA</td>\n",
       "    </tr>\n",
       "    <tr>\n",
       "      <th>1</th>\n",
       "      <td>MARTIN</td>\n",
       "      <td>CANO</td>\n",
       "      <td>99</td>\n",
       "      <td>FISICA</td>\n",
       "      <td>TICUL</td>\n",
       "    </tr>\n",
       "    <tr>\n",
       "      <th>0</th>\n",
       "      <td>ISMAEL</td>\n",
       "      <td>LOZANO</td>\n",
       "      <td>98</td>\n",
       "      <td>MECATRONICA</td>\n",
       "      <td>MERIDA</td>\n",
       "    </tr>\n",
       "    <tr>\n",
       "      <th>6</th>\n",
       "      <td>JOSEFA</td>\n",
       "      <td>LOPEZ</td>\n",
       "      <td>98</td>\n",
       "      <td>MECATRONICA</td>\n",
       "      <td>MERIDA</td>\n",
       "    </tr>\n",
       "    <tr>\n",
       "      <th>3</th>\n",
       "      <td>ANGEL</td>\n",
       "      <td>MORCILLO</td>\n",
       "      <td>98</td>\n",
       "      <td>MECATRONICA</td>\n",
       "      <td>MERIDA</td>\n",
       "    </tr>\n",
       "  </tbody>\n",
       "</table>\n",
       "</div>"
      ],
      "text/plain": [
       "   NOMBRE  APELLIDO  CALIFICACION      CARRERA  CIUDAD\n",
       "2    RICK   SANCHEZ           100       FISICA  MERIDA\n",
       "1  MARTIN      CANO            99       FISICA   TICUL\n",
       "0  ISMAEL    LOZANO            98  MECATRONICA  MERIDA\n",
       "6  JOSEFA     LOPEZ            98  MECATRONICA  MERIDA\n",
       "3   ANGEL  MORCILLO            98  MECATRONICA  MERIDA"
      ]
     },
     "execution_count": 49,
     "metadata": {},
     "output_type": "execute_result"
    }
   ],
   "source": [
    "# b) Datos del estudiante(s) con la calificación más alta\n",
    "df_gruposc.sort_values('CALIFICACION', ascending=False).head()"
   ]
  },
  {
   "cell_type": "code",
   "execution_count": 50,
   "metadata": {},
   "outputs": [
    {
     "data": {
      "text/html": [
       "<div>\n",
       "<style scoped>\n",
       "    .dataframe tbody tr th:only-of-type {\n",
       "        vertical-align: middle;\n",
       "    }\n",
       "\n",
       "    .dataframe tbody tr th {\n",
       "        vertical-align: top;\n",
       "    }\n",
       "\n",
       "    .dataframe thead th {\n",
       "        text-align: right;\n",
       "    }\n",
       "</style>\n",
       "<table border=\"1\" class=\"dataframe\">\n",
       "  <thead>\n",
       "    <tr style=\"text-align: right;\">\n",
       "      <th></th>\n",
       "      <th>NOMBRE</th>\n",
       "      <th>APELLIDO</th>\n",
       "      <th>CALIFICACION</th>\n",
       "      <th>CARRERA</th>\n",
       "      <th>CIUDAD</th>\n",
       "    </tr>\n",
       "  </thead>\n",
       "  <tbody>\n",
       "    <tr>\n",
       "      <th>6</th>\n",
       "      <td>VICENTE</td>\n",
       "      <td>CABALLERO</td>\n",
       "      <td>8</td>\n",
       "      <td>MECATRONICA</td>\n",
       "      <td>MERIDA</td>\n",
       "    </tr>\n",
       "    <tr>\n",
       "      <th>10</th>\n",
       "      <td>ANA</td>\n",
       "      <td>NAVARRO</td>\n",
       "      <td>59</td>\n",
       "      <td>MECATRONICA</td>\n",
       "      <td>MERIDA</td>\n",
       "    </tr>\n",
       "    <tr>\n",
       "      <th>8</th>\n",
       "      <td>ALBERTO</td>\n",
       "      <td>PEREZ</td>\n",
       "      <td>63</td>\n",
       "      <td>MECATRONICA</td>\n",
       "      <td>MERIDA</td>\n",
       "    </tr>\n",
       "    <tr>\n",
       "      <th>7</th>\n",
       "      <td>LUIS</td>\n",
       "      <td>ALFARO</td>\n",
       "      <td>65</td>\n",
       "      <td>FISICA</td>\n",
       "      <td>MERIDA</td>\n",
       "    </tr>\n",
       "    <tr>\n",
       "      <th>4</th>\n",
       "      <td>JESUS</td>\n",
       "      <td>ORTEGA</td>\n",
       "      <td>74</td>\n",
       "      <td>MECATRONICA</td>\n",
       "      <td>MERIDA</td>\n",
       "    </tr>\n",
       "  </tbody>\n",
       "</table>\n",
       "</div>"
      ],
      "text/plain": [
       "     NOMBRE   APELLIDO  CALIFICACION      CARRERA  CIUDAD\n",
       "6   VICENTE  CABALLERO             8  MECATRONICA  MERIDA\n",
       "10      ANA    NAVARRO            59  MECATRONICA  MERIDA\n",
       "8   ALBERTO      PEREZ            63  MECATRONICA  MERIDA\n",
       "7      LUIS     ALFARO            65       FISICA  MERIDA\n",
       "4     JESUS     ORTEGA            74  MECATRONICA  MERIDA"
      ]
     },
     "execution_count": 50,
     "metadata": {},
     "output_type": "execute_result"
    }
   ],
   "source": [
    "# c) Datos del estudiante(s) con la calificación más baja \n",
    "df_gruposc.sort_values('CALIFICACION').head()"
   ]
  },
  {
   "cell_type": "markdown",
   "metadata": {},
   "source": [
    "<div class=\"alert alert-success\">\n",
    "<b>EJERCICIO 4: Concatenar todos los archivos .csv de los semestres 2 y 3  </b>:\n",
    "\n",
    " <ul>\n",
    "  <li> a) Encontrar el promedio y   desviación estándar  </li>\n",
    "  <li> b) Datos del estudiante(s) con la calificación más alta </li>   \n",
    "  <li> c) Datos del estudiante(s) con la calificación más baja </li>   \n",
    "</ul>\n",
    "</div>"
   ]
  },
  {
   "cell_type": "code",
   "execution_count": 51,
   "metadata": {},
   "outputs": [
    {
     "name": "stdout",
     "output_type": "stream",
     "text": [
      "['datos\\\\semestre2a.csv', 'datos\\\\semestre2b.csv', 'datos\\\\semestre2c.csv', 'datos\\\\semestre3a.csv', 'datos\\\\semestre3b.csv', 'datos\\\\semestre3c.csv']\n",
      "Final= (37, 5)\n"
     ]
    }
   ],
   "source": [
    "# Concatenar todos los archivos .csv de los semestres 2 y 3 \n",
    "path = 'datos'\n",
    "files = glob.glob(path + '/semestre[2-3]?.csv')\n",
    "print(files)\n",
    "# crear una lista vacía para almacenar  los dataframes\n",
    "lista_dfs=[]\n",
    "# recorrer la lista de archivos para crear la lista de archivos \n",
    "for file in files:\n",
    "    temp_df = pd.read_csv(file)\n",
    "    lista_dfs.append(temp_df)\n",
    "\n",
    "# concatenación\n",
    "df_s23 = pd.concat(lista_dfs, axis=0)\n",
    "df_s23.head()\n",
    "print('Final=', df_s23.shape)"
   ]
  },
  {
   "cell_type": "code",
   "execution_count": 53,
   "metadata": {},
   "outputs": [
    {
     "name": "stdout",
     "output_type": "stream",
     "text": [
      "Promedio = 84.64864864864865\n",
      "Desviación estándar = 17.230812543258107\n"
     ]
    }
   ],
   "source": [
    "# a) Encontrar el promedio y desviación estándar \n",
    "print('Promedio =', df_s23['CALIFICACION'].mean())\n",
    "print('Desviación estándar =', df_s23['CALIFICACION'].std())"
   ]
  },
  {
   "cell_type": "code",
   "execution_count": 54,
   "metadata": {},
   "outputs": [
    {
     "data": {
      "text/html": [
       "<div>\n",
       "<style scoped>\n",
       "    .dataframe tbody tr th:only-of-type {\n",
       "        vertical-align: middle;\n",
       "    }\n",
       "\n",
       "    .dataframe tbody tr th {\n",
       "        vertical-align: top;\n",
       "    }\n",
       "\n",
       "    .dataframe thead th {\n",
       "        text-align: right;\n",
       "    }\n",
       "</style>\n",
       "<table border=\"1\" class=\"dataframe\">\n",
       "  <thead>\n",
       "    <tr style=\"text-align: right;\">\n",
       "      <th></th>\n",
       "      <th>NOMBRE</th>\n",
       "      <th>APELLIDO</th>\n",
       "      <th>CALIFICACION</th>\n",
       "      <th>CARRERA</th>\n",
       "      <th>CIUDAD</th>\n",
       "    </tr>\n",
       "  </thead>\n",
       "  <tbody>\n",
       "    <tr>\n",
       "      <th>2</th>\n",
       "      <td>RICK</td>\n",
       "      <td>SANCHEZ</td>\n",
       "      <td>100</td>\n",
       "      <td>FISICA</td>\n",
       "      <td>MERIDA</td>\n",
       "    </tr>\n",
       "    <tr>\n",
       "      <th>1</th>\n",
       "      <td>MARTIN</td>\n",
       "      <td>CANO</td>\n",
       "      <td>99</td>\n",
       "      <td>FISICA</td>\n",
       "      <td>TICUL</td>\n",
       "    </tr>\n",
       "    <tr>\n",
       "      <th>4</th>\n",
       "      <td>PEDRO</td>\n",
       "      <td>MARIN</td>\n",
       "      <td>98</td>\n",
       "      <td>MECATRONICA</td>\n",
       "      <td>MERIDA</td>\n",
       "    </tr>\n",
       "    <tr>\n",
       "      <th>1</th>\n",
       "      <td>JULIA</td>\n",
       "      <td>RODENAS</td>\n",
       "      <td>98</td>\n",
       "      <td>FISICA</td>\n",
       "      <td>MERIDA</td>\n",
       "    </tr>\n",
       "    <tr>\n",
       "      <th>2</th>\n",
       "      <td>DANIEL</td>\n",
       "      <td>MAY</td>\n",
       "      <td>98</td>\n",
       "      <td>RENOVABLES</td>\n",
       "      <td>MERIDA</td>\n",
       "    </tr>\n",
       "  </tbody>\n",
       "</table>\n",
       "</div>"
      ],
      "text/plain": [
       "   NOMBRE APELLIDO  CALIFICACION      CARRERA  CIUDAD\n",
       "2    RICK  SANCHEZ           100       FISICA  MERIDA\n",
       "1  MARTIN     CANO            99       FISICA   TICUL\n",
       "4   PEDRO    MARIN            98  MECATRONICA  MERIDA\n",
       "1   JULIA  RODENAS            98       FISICA  MERIDA\n",
       "2  DANIEL      MAY            98   RENOVABLES  MERIDA"
      ]
     },
     "execution_count": 54,
     "metadata": {},
     "output_type": "execute_result"
    }
   ],
   "source": [
    "# b) Datos del estudiante(s) con la calificación más alta \n",
    "df_s23.sort_values('CALIFICACION', ascending=False).head()"
   ]
  },
  {
   "cell_type": "code",
   "execution_count": 55,
   "metadata": {},
   "outputs": [
    {
     "data": {
      "text/html": [
       "<div>\n",
       "<style scoped>\n",
       "    .dataframe tbody tr th:only-of-type {\n",
       "        vertical-align: middle;\n",
       "    }\n",
       "\n",
       "    .dataframe tbody tr th {\n",
       "        vertical-align: top;\n",
       "    }\n",
       "\n",
       "    .dataframe thead th {\n",
       "        text-align: right;\n",
       "    }\n",
       "</style>\n",
       "<table border=\"1\" class=\"dataframe\">\n",
       "  <thead>\n",
       "    <tr style=\"text-align: right;\">\n",
       "      <th></th>\n",
       "      <th>NOMBRE</th>\n",
       "      <th>APELLIDO</th>\n",
       "      <th>CALIFICACION</th>\n",
       "      <th>CARRERA</th>\n",
       "      <th>CIUDAD</th>\n",
       "    </tr>\n",
       "  </thead>\n",
       "  <tbody>\n",
       "    <tr>\n",
       "      <th>6</th>\n",
       "      <td>VICENTE</td>\n",
       "      <td>CABALLERO</td>\n",
       "      <td>8</td>\n",
       "      <td>MECATRONICA</td>\n",
       "      <td>MERIDA</td>\n",
       "    </tr>\n",
       "    <tr>\n",
       "      <th>1</th>\n",
       "      <td>JUAN</td>\n",
       "      <td>ARENAS</td>\n",
       "      <td>47</td>\n",
       "      <td>FISICA</td>\n",
       "      <td>MERIDA</td>\n",
       "    </tr>\n",
       "    <tr>\n",
       "      <th>2</th>\n",
       "      <td>JAVIER</td>\n",
       "      <td>PEREZ</td>\n",
       "      <td>57</td>\n",
       "      <td>RENOVABLES</td>\n",
       "      <td>MERIDA</td>\n",
       "    </tr>\n",
       "    <tr>\n",
       "      <th>3</th>\n",
       "      <td>LUIS</td>\n",
       "      <td>PEREZ</td>\n",
       "      <td>70</td>\n",
       "      <td>MECATRONICA</td>\n",
       "      <td>MOTUL</td>\n",
       "    </tr>\n",
       "    <tr>\n",
       "      <th>1</th>\n",
       "      <td>ELENA</td>\n",
       "      <td>CASTILLO</td>\n",
       "      <td>73</td>\n",
       "      <td>MECATRONICA</td>\n",
       "      <td>MERIDA</td>\n",
       "    </tr>\n",
       "  </tbody>\n",
       "</table>\n",
       "</div>"
      ],
      "text/plain": [
       "    NOMBRE   APELLIDO  CALIFICACION      CARRERA  CIUDAD\n",
       "6  VICENTE  CABALLERO             8  MECATRONICA  MERIDA\n",
       "1     JUAN     ARENAS            47       FISICA  MERIDA\n",
       "2   JAVIER      PEREZ            57   RENOVABLES  MERIDA\n",
       "3     LUIS      PEREZ            70  MECATRONICA   MOTUL\n",
       "1    ELENA   CASTILLO            73  MECATRONICA  MERIDA"
      ]
     },
     "execution_count": 55,
     "metadata": {},
     "output_type": "execute_result"
    }
   ],
   "source": [
    "# c) Datos del estudiante(s) con la calificación más baja\n",
    "df_s23.sort_values('CALIFICACION').head()"
   ]
  },
  {
   "cell_type": "code",
   "execution_count": null,
   "metadata": {},
   "outputs": [],
   "source": []
  }
 ],
 "metadata": {
  "kernelspec": {
   "display_name": "Python 3 (ipykernel)",
   "language": "python",
   "name": "python3"
  },
  "language_info": {
   "codemirror_mode": {
    "name": "ipython",
    "version": 3
   },
   "file_extension": ".py",
   "mimetype": "text/x-python",
   "name": "python",
   "nbconvert_exporter": "python",
   "pygments_lexer": "ipython3",
   "version": "3.10.1"
  }
 },
 "nbformat": 4,
 "nbformat_minor": 4
}
