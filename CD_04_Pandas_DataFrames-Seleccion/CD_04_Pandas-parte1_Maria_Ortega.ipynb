{
 "cells": [
  {
   "cell_type": "markdown",
   "metadata": {},
   "source": [
    "<!--Información del curso-->\n",
    "<img align=\"left\" style=\"padding-right:10px;\" src=\"figuras/logo_ciencia_datos.png\">"
   ]
  },
  {
   "cell_type": "markdown",
   "metadata": {},
   "source": [
    "<center><h1 style=\"font-size:2em;color:#2467C0\"> Pandas -Parte 1  </h1></center>\n",
    "\n",
    "<center><h2 style=\"font-size:2em;color:#840700\">  Pandas - Series y DataFrames  </h4></center>\n",
    "\n",
    "<br>\n",
    "<table>\n",
    "<col width=\"550\">\n",
    "<col width=\"450\">\n",
    "<tr>\n",
    "<td><img src=\"figuras/WesM.png\" align=\"left\" style=\"width:500px\"/></td>\n",
    "<td>\n",
    "\n",
    "* **Wes McKinney**, empezó a desarrollar Pandas en el año 2008 mientras trabajaba en *AQR Capital* [https://www.aqr.com/] por la necesidad que tenía de una herramienta flexible de alto rendimiento para realizar análisis cuantitativos en datos financieros. \n",
    "* Antes de dejar AQR convenció a la administración de la empresa de distribuir esta biblioteca bajo licencia de código abierto.\n",
    "* **Pandas** es un acrónimo de **PANel DAta analysiS**\n",
    "   \n",
    "    \n",
    "<br>\n",
    "</td>\n",
    "</tr>\n",
    "</table>"
   ]
  },
  {
   "cell_type": "markdown",
   "metadata": {},
   "source": [
    "# Librerías\n",
    "\n",
    "Cargando las bibliotecas que necesitamos \n"
   ]
  },
  {
   "cell_type": "code",
   "execution_count": 16,
   "metadata": {},
   "outputs": [],
   "source": [
    "import pandas as pd\n",
    "import numpy as np\n",
    "import matplotlib.pyplot as plt"
   ]
  },
  {
   "cell_type": "markdown",
   "metadata": {},
   "source": [
    "# Introduccion "
   ]
  },
  {
   "cell_type": "markdown",
   "metadata": {},
   "source": [
    "* Pandas es un paquete de Python que proporciona estructuras de datos rápidas, flexibles y expresivas diseñadas para hacer que el trabajo con datos \"relacionales\" o \"etiquetados\" sea fácil e intuitivo. \n",
    "* Pretende ser el elemento fundamental de alto nivel para realizar análisis de datos prácticos y del mundo real en Python.\n",
    "* La documentación oficial de Pandas se puede encontrar en el siguiente link https://pandas.pydata.org/pandas-docs/stable/\n",
    "\n",
    "\n",
    "<img align=\"left\" width=60% src=\"figuras/pandas2.jpeg\">"
   ]
  },
  {
   "cell_type": "markdown",
   "metadata": {},
   "source": [
    "Características principales de uso:\n",
    "* Ingestión de datos (Data ingestion)\n",
    "* Estadística descriptiva\n",
    "* Limpieza de datos\n",
    "* Visualización\n",
    "* Transformación de datos\n",
    "* Combinando DataFrames\n",
    "* Manejo datos utilizando una variable temporal"
   ]
  },
  {
   "cell_type": "markdown",
   "metadata": {},
   "source": [
    "# Estructuras de datos en Pandas : Series y DataFrames\n",
    "\n",
    "Pandas proporciona dos tipos de datos fundamentales, para 1D (**Series**) y datos 2D (**DataFrame**).\n",
    "\n",
    "\n",
    "<img align=\"left\" width=75% src=\"figuras/SeriesYDataFrame.png\">"
   ]
  },
  {
   "cell_type": "markdown",
   "metadata": {},
   "source": [
    "<img align=\"left\" width=60% src=\"figuras/DataFrame.png\">"
   ]
  },
  {
   "cell_type": "markdown",
   "metadata": {},
   "source": [
    "En el nivel más básico, los objetos Pandas se pueden considerar como versiones mejoradas de matrices estructuradas NumPy en las que las filas y columnas se identifican con etiquetas en lugar de índices enteros simples. Como veremos durante el transcurso de esta unidad, Pandas proporciona una serie de herramientas, métodos y funcionalidades útiles además de las estructuras de datos básicas. Por lo tanto, introduzcamos estas tres estructuras de datos fundamentales de Pandas: **Series** y **DataFrames**.\n"
   ]
  },
  {
   "cell_type": "markdown",
   "metadata": {},
   "source": [
    "# Las Series\n",
    "Las **Series** de Pandas son un arreglos unidimensionales de datos indexados. Se pueden crear a partir de una lista o arreglo de la siguiente manera:\n"
   ]
  },
  {
   "cell_type": "code",
   "execution_count": 4,
   "metadata": {},
   "outputs": [
    {
     "data": {
      "text/plain": [
       "0    9.00\n",
       "1    0.25\n",
       "2    1.00\n",
       "3    1.50\n",
       "4    3.00\n",
       "5    8.90\n",
       "dtype: float64"
      ]
     },
     "execution_count": 4,
     "metadata": {},
     "output_type": "execute_result"
    }
   ],
   "source": [
    " #Ejemplo\n",
    "\n",
    "data = pd.Series([9, 0.25, 1, 1.5, 3, 8.9])\n",
    "data\n",
    "#print(data)"
   ]
  },
  {
   "cell_type": "markdown",
   "metadata": {},
   "source": [
    "Como vemos en la salida anterior, la **Serie** envuelve cuenta con una secuencia de ``índices`` como  de ``valores``. Los ``valores`` son simplemente un arreglo de NumPy "
   ]
  },
  {
   "cell_type": "code",
   "execution_count": 5,
   "metadata": {},
   "outputs": [
    {
     "data": {
      "text/plain": [
       "array([9.  , 0.25, 1.  , 1.5 , 3.  , 8.9 ])"
      ]
     },
     "execution_count": 5,
     "metadata": {},
     "output_type": "execute_result"
    }
   ],
   "source": [
    "#Valores\n",
    "data.values #obtiene los valores como un arreglo de numpy"
   ]
  },
  {
   "cell_type": "markdown",
   "metadata": {},
   "source": [
    "Y para conocer la secuencia de los ``índices`` podemos usar:\n"
   ]
  },
  {
   "cell_type": "code",
   "execution_count": 6,
   "metadata": {},
   "outputs": [
    {
     "data": {
      "text/plain": [
       "RangeIndex(start=0, stop=6, step=1)"
      ]
     },
     "execution_count": 6,
     "metadata": {},
     "output_type": "execute_result"
    }
   ],
   "source": [
    "#Indices\n",
    "data.index"
   ]
  },
  {
   "cell_type": "markdown",
   "metadata": {},
   "source": [
    "Al igual que con un arreglo de NumPy, se puede acceder a los datos mediante el índice asociado a través de la conocida notación de corchetes de Python:"
   ]
  },
  {
   "cell_type": "code",
   "execution_count": 7,
   "metadata": {},
   "outputs": [
    {
     "data": {
      "text/plain": [
       "9.0"
      ]
     },
     "execution_count": 7,
     "metadata": {},
     "output_type": "execute_result"
    }
   ],
   "source": [
    "data[0]"
   ]
  },
  {
   "cell_type": "code",
   "execution_count": 10,
   "metadata": {},
   "outputs": [
    {
     "data": {
      "text/plain": [
       "2    1.0\n",
       "3    1.5\n",
       "4    3.0\n",
       "5    8.9\n",
       "dtype: float64"
      ]
     },
     "execution_count": 10,
     "metadata": {},
     "output_type": "execute_result"
    }
   ],
   "source": [
    "data[2:] #conjunto de elementos"
   ]
  },
  {
   "cell_type": "markdown",
   "metadata": {},
   "source": [
    "## Las Series:  arreglos generalizados de NumPy "
   ]
  },
  {
   "cell_type": "markdown",
   "metadata": {},
   "source": [
    "Por lo que hemos visto hasta ahora, puede parecer que las **Series** son básicamente intercambiables con arreglos unidimensionales de NumPy. La diferencia esencial es la presencia de los índices: mientras que los arreglos de Numpy tienen un índice entero definido implícitamente que se utiliza para acceder a los valores (índices asociados a la posición), las Series de Pandas tiene índices definidos explícitamente asociados con los valores. Esta definición de índice explícita le da a las Series características  adicionales. \n",
    "\n",
    "Por ejemplo, no es necesario que el índice sea un número entero. "
   ]
  },
  {
   "cell_type": "code",
   "execution_count": 11,
   "metadata": {},
   "outputs": [
    {
     "name": "stdout",
     "output_type": "stream",
     "text": [
      "a    9.00\n",
      "b    0.25\n",
      "c    1.00\n",
      "d    1.50\n",
      "x    3.00\n",
      "y    8.90\n",
      "dtype: float64\n"
     ]
    }
   ],
   "source": [
    "data = pd.Series([9, 0.25, 1, 1.5, 3, 8.9],\n",
    "                index=['a', 'b', 'c', 'd', 'x', 'y'] #agregando los índices como una lista\n",
    "                )\n",
    "print(data)"
   ]
  },
  {
   "cell_type": "markdown",
   "metadata": {},
   "source": [
    "Y el acceso a cada elemento funciona con su respectivo índice:"
   ]
  },
  {
   "cell_type": "code",
   "execution_count": 13,
   "metadata": {},
   "outputs": [
    {
     "data": {
      "text/plain": [
       "1.5"
      ]
     },
     "execution_count": 13,
     "metadata": {},
     "output_type": "execute_result"
    }
   ],
   "source": [
    " data['d'] #accediendo a través de su índice como si fuera una etiqueta"
   ]
  },
  {
   "cell_type": "markdown",
   "metadata": {},
   "source": [
    "Incluso podemos utilizar índices no contiguos o no secuenciales:"
   ]
  },
  {
   "cell_type": "code",
   "execution_count": 14,
   "metadata": {},
   "outputs": [
    {
     "name": "stdout",
     "output_type": "stream",
     "text": [
      "5    9.00\n",
      "1    0.25\n",
      "3    1.00\n",
      "2    1.50\n",
      "4    3.00\n",
      "0    8.90\n",
      "dtype: float64\n"
     ]
    }
   ],
   "source": [
    " data = pd.Series([9, 0.25, 1, 1.5, 3, 8.9],\n",
    "                index=[5, 1, 3, 2, 4, 0] #agregando los índices como una lista\n",
    "                )\n",
    "print(data)"
   ]
  },
  {
   "cell_type": "code",
   "execution_count": null,
   "metadata": {},
   "outputs": [],
   "source": [
    " "
   ]
  },
  {
   "cell_type": "markdown",
   "metadata": {},
   "source": [
    "## Las Series y  diccionarios de Python"
   ]
  },
  {
   "cell_type": "markdown",
   "metadata": {},
   "source": [
    "Se puede considerar que una **Serie** es similar a un diccionario ordenado que asigna un valor a una etiqueta, de hecho, es posible construir una serie directamente desde un diccionario de Python:"
   ]
  },
  {
   "cell_type": "code",
   "execution_count": 17,
   "metadata": {},
   "outputs": [
    {
     "name": "stdout",
     "output_type": "stream",
     "text": [
      "California    38.3\n",
      "Texas         26.4\n",
      "New York      19.6\n",
      "Florida       19.5\n",
      "Illinois      12.8\n",
      "Washington    17.5\n",
      "dtype: float64\n"
     ]
    }
   ],
   "source": [
    "poblacion_diccionario = {'California': 38.3,\n",
    "                   'Texas': 26.4,\n",
    "                   'New York': 19.6,\n",
    "                   'Florida': 19.5,\n",
    "                   'Illinois': 12.8,\n",
    "                   'Washington': 17.5,     \n",
    "                             }\n",
    "\n",
    "# Crar la Serie llamada poblacion\n",
    "poblacion = pd.Series(poblacion_diccionario)\n",
    "print(poblacion)"
   ]
  },
  {
   "cell_type": "markdown",
   "metadata": {},
   "source": [
    "De forma predeterminada, se creará una **Serie** donde el índice se extrae de las etiquetas ordenadas y se puede realizar el acceso típico a elementos al estilo de un diccionario de Python:"
   ]
  },
  {
   "cell_type": "code",
   "execution_count": 19,
   "metadata": {},
   "outputs": [
    {
     "data": {
      "text/plain": [
       "38.3"
      ]
     },
     "execution_count": 19,
     "metadata": {},
     "output_type": "execute_result"
    }
   ],
   "source": [
    "#acceder al valor de la etiqueta\n",
    "poblacion['California']"
   ]
  },
  {
   "cell_type": "markdown",
   "metadata": {},
   "source": [
    "Sin embargo, a diferencia de un diccionario, las **Series** también admiten operaciones de segmentación:"
   ]
  },
  {
   "cell_type": "code",
   "execution_count": 22,
   "metadata": {},
   "outputs": [
    {
     "data": {
      "text/plain": [
       "California    38.3\n",
       "Texas         26.4\n",
       "New York      19.6\n",
       "Florida       19.5\n",
       "dtype: float64"
      ]
     },
     "execution_count": 22,
     "metadata": {},
     "output_type": "execute_result"
    }
   ],
   "source": [
    " poblacion['California':'Florida'] #el límite si se incluye"
   ]
  },
  {
   "cell_type": "markdown",
   "metadata": {},
   "source": [
    "Discutiremos algunas de las peculiaridades de la indexación y segmentación de Pandas en las siguientes lecciones."
   ]
  },
  {
   "cell_type": "markdown",
   "metadata": {},
   "source": [
    "# DataFrames\n",
    "\n",
    "La siguiente estructura fundamental en Pandas es el **DataFrame**. Al igual que las **Series** presentadas en la sección anterior, los  **DataFrame** se pueden considerar como una generalización de arreglos de NumPy o como   diccionarios especializados de Python."
   ]
  },
  {
   "cell_type": "markdown",
   "metadata": {},
   "source": [
    "## DataFrame como un arreglo generalizado de NumPy \n"
   ]
  },
  {
   "cell_type": "markdown",
   "metadata": {},
   "source": [
    "\n",
    "Si una **Serie** es un análogo de un arreglo unidimensional con índices flexibles, un **DataFrame** es un análogo de un arreglo bidimensional con índices de filas flexibles y nombres de columnas flexibles.\n",
    "Así como podría pensar en un arreglo bidimensional como una secuencia ordenada de columnas unidimensionales alineadas, se puede pensar en un **DataFrame** como una secuencia de objetos alineados de **Serie**,  por *alineados* queremos decir que comparten el mismo índice.\n",
    "\n",
    "Para demostrar esto, construyamos primero una nueva **Serie** que enumere el área de cada uno de los  estados mostrados en la sección anterior:\n"
   ]
  },
  {
   "cell_type": "code",
   "execution_count": 24,
   "metadata": {},
   "outputs": [
    {
     "data": {
      "text/plain": [
       "California    423967\n",
       "Texas         695662\n",
       "New York      141297\n",
       "Florida       170312\n",
       "Illinois      149995\n",
       "Washington    289990\n",
       "dtype: int64"
      ]
     },
     "execution_count": 24,
     "metadata": {},
     "output_type": "execute_result"
    }
   ],
   "source": [
    "area_diccionario = {'California': 423967, 'Texas': 695662, 'New York': 141297,\n",
    "             'Florida': 170312, 'Illinois': 149995,'Washington': 289990}\n",
    "#Crear la serie llamada area\n",
    "area = pd.Series(area_diccionario)\n",
    "area #print(area)"
   ]
  },
  {
   "cell_type": "markdown",
   "metadata": {},
   "source": [
    "Ahora que tenemos esto junto con la serie de población de anterior, podemos usar un diccionario para construir un único objeto bidimensional que contenga esta información:\n"
   ]
  },
  {
   "cell_type": "code",
   "execution_count": 26,
   "metadata": {},
   "outputs": [
    {
     "data": {
      "text/html": [
       "<div>\n",
       "<style scoped>\n",
       "    .dataframe tbody tr th:only-of-type {\n",
       "        vertical-align: middle;\n",
       "    }\n",
       "\n",
       "    .dataframe tbody tr th {\n",
       "        vertical-align: top;\n",
       "    }\n",
       "\n",
       "    .dataframe thead th {\n",
       "        text-align: right;\n",
       "    }\n",
       "</style>\n",
       "<table border=\"1\" class=\"dataframe\">\n",
       "  <thead>\n",
       "    <tr style=\"text-align: right;\">\n",
       "      <th></th>\n",
       "      <th>etiqueta_poblacion</th>\n",
       "      <th>etiqueta_area</th>\n",
       "    </tr>\n",
       "  </thead>\n",
       "  <tbody>\n",
       "    <tr>\n",
       "      <th>California</th>\n",
       "      <td>38.3</td>\n",
       "      <td>423967</td>\n",
       "    </tr>\n",
       "    <tr>\n",
       "      <th>Texas</th>\n",
       "      <td>26.4</td>\n",
       "      <td>695662</td>\n",
       "    </tr>\n",
       "    <tr>\n",
       "      <th>New York</th>\n",
       "      <td>19.6</td>\n",
       "      <td>141297</td>\n",
       "    </tr>\n",
       "    <tr>\n",
       "      <th>Florida</th>\n",
       "      <td>19.5</td>\n",
       "      <td>170312</td>\n",
       "    </tr>\n",
       "    <tr>\n",
       "      <th>Illinois</th>\n",
       "      <td>12.8</td>\n",
       "      <td>149995</td>\n",
       "    </tr>\n",
       "    <tr>\n",
       "      <th>Washington</th>\n",
       "      <td>17.5</td>\n",
       "      <td>289990</td>\n",
       "    </tr>\n",
       "  </tbody>\n",
       "</table>\n",
       "</div>"
      ],
      "text/plain": [
       "            etiqueta_poblacion  etiqueta_area\n",
       "California                38.3         423967\n",
       "Texas                     26.4         695662\n",
       "New York                  19.6         141297\n",
       "Florida                   19.5         170312\n",
       "Illinois                  12.8         149995\n",
       "Washington                17.5         289990"
      ]
     },
     "execution_count": 26,
     "metadata": {},
     "output_type": "execute_result"
    }
   ],
   "source": [
    "#Crear la serie llamada estados\n",
    "estados = pd.DataFrame({'etiqueta_poblacion' : poblacion, \n",
    "                        'etiqueta_area' : area}) #crea un diccionario\n",
    "#toma las etiquetas existentes y les asigna los valores\n",
    "estados"
   ]
  },
  {
   "cell_type": "markdown",
   "metadata": {},
   "source": [
    "Como en las **Series**, el **DataFrame** tiene un atributo de ``index`` que da acceso a las etiquetas del índice:"
   ]
  },
  {
   "cell_type": "code",
   "execution_count": 27,
   "metadata": {},
   "outputs": [
    {
     "data": {
      "text/plain": [
       "Index(['California', 'Texas', 'New York', 'Florida', 'Illinois', 'Washington'], dtype='object')"
      ]
     },
     "execution_count": 27,
     "metadata": {},
     "output_type": "execute_result"
    }
   ],
   "source": [
    "#indices\n",
    "estados.index"
   ]
  },
  {
   "cell_type": "markdown",
   "metadata": {},
   "source": [
    "Además, el **DataFrame** tiene un atributo ``columns``  que contiene las etiquetas de las columnas:"
   ]
  },
  {
   "cell_type": "code",
   "execution_count": 29,
   "metadata": {},
   "outputs": [
    {
     "data": {
      "text/plain": [
       "Index(['etiqueta_poblacion', 'etiqueta_area'], dtype='object')"
      ]
     },
     "execution_count": 29,
     "metadata": {},
     "output_type": "execute_result"
    }
   ],
   "source": [
    "#Columnas\n",
    "estados.columns"
   ]
  },
  {
   "cell_type": "markdown",
   "metadata": {},
   "source": [
    "Thus the ``DataFrame`` can be thought of as a generalization of a two-dimensional NumPy array, where both the rows and columns have a generalized index for accessing the data."
   ]
  },
  {
   "cell_type": "markdown",
   "metadata": {},
   "source": [
    "### DataFrame como un diccionario especializado\n"
   ]
  },
  {
   "cell_type": "markdown",
   "metadata": {},
   "source": [
    "Se puede  pensar en un **DataFrame** como una diccionario especializado, ya que un **DataFrame** además asigna un nombre a cada columna. Por ejemplo, al pedir el 'area' obtendremos los elementos de la columna 'area':"
   ]
  },
  {
   "cell_type": "code",
   "execution_count": 31,
   "metadata": {},
   "outputs": [
    {
     "data": {
      "text/html": [
       "<div>\n",
       "<style scoped>\n",
       "    .dataframe tbody tr th:only-of-type {\n",
       "        vertical-align: middle;\n",
       "    }\n",
       "\n",
       "    .dataframe tbody tr th {\n",
       "        vertical-align: top;\n",
       "    }\n",
       "\n",
       "    .dataframe thead th {\n",
       "        text-align: right;\n",
       "    }\n",
       "</style>\n",
       "<table border=\"1\" class=\"dataframe\">\n",
       "  <thead>\n",
       "    <tr style=\"text-align: right;\">\n",
       "      <th></th>\n",
       "      <th>etiqueta_poblacion</th>\n",
       "      <th>etiqueta_area</th>\n",
       "    </tr>\n",
       "  </thead>\n",
       "  <tbody>\n",
       "    <tr>\n",
       "      <th>California</th>\n",
       "      <td>38.3</td>\n",
       "      <td>423967</td>\n",
       "    </tr>\n",
       "    <tr>\n",
       "      <th>Texas</th>\n",
       "      <td>26.4</td>\n",
       "      <td>695662</td>\n",
       "    </tr>\n",
       "    <tr>\n",
       "      <th>New York</th>\n",
       "      <td>19.6</td>\n",
       "      <td>141297</td>\n",
       "    </tr>\n",
       "    <tr>\n",
       "      <th>Florida</th>\n",
       "      <td>19.5</td>\n",
       "      <td>170312</td>\n",
       "    </tr>\n",
       "    <tr>\n",
       "      <th>Illinois</th>\n",
       "      <td>12.8</td>\n",
       "      <td>149995</td>\n",
       "    </tr>\n",
       "    <tr>\n",
       "      <th>Washington</th>\n",
       "      <td>17.5</td>\n",
       "      <td>289990</td>\n",
       "    </tr>\n",
       "  </tbody>\n",
       "</table>\n",
       "</div>"
      ],
      "text/plain": [
       "            etiqueta_poblacion  etiqueta_area\n",
       "California                38.3         423967\n",
       "Texas                     26.4         695662\n",
       "New York                  19.6         141297\n",
       "Florida                   19.5         170312\n",
       "Illinois                  12.8         149995\n",
       "Washington                17.5         289990"
      ]
     },
     "execution_count": 31,
     "metadata": {},
     "output_type": "execute_result"
    }
   ],
   "source": [
    "#dataframe\n",
    "estados"
   ]
  },
  {
   "cell_type": "code",
   "execution_count": 35,
   "metadata": {},
   "outputs": [
    {
     "data": {
      "text/plain": [
       "California    423967\n",
       "Texas         695662\n",
       "New York      141297\n",
       "Florida       170312\n",
       "Illinois      149995\n",
       "Washington    289990\n",
       "Name: etiqueta_area, dtype: int64"
      ]
     },
     "execution_count": 35,
     "metadata": {},
     "output_type": "execute_result"
    }
   ],
   "source": [
    "# area\n",
    "estados['etiqueta_area']"
   ]
  },
  {
   "cell_type": "markdown",
   "metadata": {},
   "source": [
    "De igual manera para la columna 'poblacion'"
   ]
  },
  {
   "cell_type": "code",
   "execution_count": 34,
   "metadata": {},
   "outputs": [
    {
     "data": {
      "text/plain": [
       "California    38.3\n",
       "Texas         26.4\n",
       "New York      19.6\n",
       "Florida       19.5\n",
       "Illinois      12.8\n",
       "Washington    17.5\n",
       "Name: etiqueta_poblacion, dtype: float64"
      ]
     },
     "execution_count": 34,
     "metadata": {},
     "output_type": "execute_result"
    }
   ],
   "source": [
    "#Población\n",
    "estados['etiqueta_poblacion']"
   ]
  },
  {
   "cell_type": "markdown",
   "metadata": {},
   "source": [
    "### Construyendo DataFrames\n",
    "\n",
    "Un **DataFrame** de Pandas se puede construir de varias formas utilizando la función ``DataFrame``. Aquí daremos varios ejemplos.\n"
   ]
  },
  {
   "cell_type": "markdown",
   "metadata": {},
   "source": [
    "#### a) Utilizando una Serie\n",
    "\n",
    "Un **DataFrame** es una colección de **Series**, y un **DataFrame** de una sola columna se puede construir a partir de una sola **Serie**:\n"
   ]
  },
  {
   "cell_type": "code",
   "execution_count": 38,
   "metadata": {},
   "outputs": [
    {
     "data": {
      "text/html": [
       "<div>\n",
       "<style scoped>\n",
       "    .dataframe tbody tr th:only-of-type {\n",
       "        vertical-align: middle;\n",
       "    }\n",
       "\n",
       "    .dataframe tbody tr th {\n",
       "        vertical-align: top;\n",
       "    }\n",
       "\n",
       "    .dataframe thead th {\n",
       "        text-align: right;\n",
       "    }\n",
       "</style>\n",
       "<table border=\"1\" class=\"dataframe\">\n",
       "  <thead>\n",
       "    <tr style=\"text-align: right;\">\n",
       "      <th></th>\n",
       "      <th>Población en millones</th>\n",
       "    </tr>\n",
       "  </thead>\n",
       "  <tbody>\n",
       "    <tr>\n",
       "      <th>California</th>\n",
       "      <td>38.3</td>\n",
       "    </tr>\n",
       "    <tr>\n",
       "      <th>Texas</th>\n",
       "      <td>26.4</td>\n",
       "    </tr>\n",
       "    <tr>\n",
       "      <th>New York</th>\n",
       "      <td>19.6</td>\n",
       "    </tr>\n",
       "    <tr>\n",
       "      <th>Florida</th>\n",
       "      <td>19.5</td>\n",
       "    </tr>\n",
       "    <tr>\n",
       "      <th>Illinois</th>\n",
       "      <td>12.8</td>\n",
       "    </tr>\n",
       "    <tr>\n",
       "      <th>Washington</th>\n",
       "      <td>17.5</td>\n",
       "    </tr>\n",
       "  </tbody>\n",
       "</table>\n",
       "</div>"
      ],
      "text/plain": [
       "            Población en millones\n",
       "California                   38.3\n",
       "Texas                        26.4\n",
       "New York                     19.6\n",
       "Florida                      19.5\n",
       "Illinois                     12.8\n",
       "Washington                   17.5"
      ]
     },
     "execution_count": 38,
     "metadata": {},
     "output_type": "execute_result"
    }
   ],
   "source": [
    "#crea un dataframe a partir de una serie\n",
    "#pd.DataFrame(poblacion) \n",
    "\n",
    "#dada una serie crea un dataframe con un encabezado\n",
    "pd.DataFrame(poblacion, columns=['Población en millones'])"
   ]
  },
  {
   "cell_type": "markdown",
   "metadata": {},
   "source": [
    "#### b) Lista de diccionarios\n",
    "\n",
    "\n",
    "Un conjunto de diccionarios se pueden convertir en un **DataFrame**."
   ]
  },
  {
   "cell_type": "code",
   "execution_count": 41,
   "metadata": {},
   "outputs": [
    {
     "data": {
      "text/html": [
       "<div>\n",
       "<style scoped>\n",
       "    .dataframe tbody tr th:only-of-type {\n",
       "        vertical-align: middle;\n",
       "    }\n",
       "\n",
       "    .dataframe tbody tr th {\n",
       "        vertical-align: top;\n",
       "    }\n",
       "\n",
       "    .dataframe thead th {\n",
       "        text-align: right;\n",
       "    }\n",
       "</style>\n",
       "<table border=\"1\" class=\"dataframe\">\n",
       "  <thead>\n",
       "    <tr style=\"text-align: right;\">\n",
       "      <th></th>\n",
       "      <th>a</th>\n",
       "      <th>b</th>\n",
       "    </tr>\n",
       "  </thead>\n",
       "  <tbody>\n",
       "    <tr>\n",
       "      <th>x</th>\n",
       "      <td>1</td>\n",
       "      <td>11</td>\n",
       "    </tr>\n",
       "    <tr>\n",
       "      <th>y</th>\n",
       "      <td>2</td>\n",
       "      <td>12</td>\n",
       "    </tr>\n",
       "    <tr>\n",
       "      <th>z</th>\n",
       "      <td>3</td>\n",
       "      <td>13</td>\n",
       "    </tr>\n",
       "  </tbody>\n",
       "</table>\n",
       "</div>"
      ],
      "text/plain": [
       "   a   b\n",
       "x  1  11\n",
       "y  2  12\n",
       "z  3  13"
      ]
     },
     "execution_count": 41,
     "metadata": {},
     "output_type": "execute_result"
    }
   ],
   "source": [
    "diccionario = {'a': {'x':1, 'y':2, 'z':3},\n",
    "               'b': {'x':11, 'y':12, 'z':13}\n",
    "              }\n",
    "pd.DataFrame(diccionario) #toma las etiquetas principales como columnas y las secundarias como filas y crea un dataframe"
   ]
  },
  {
   "cell_type": "markdown",
   "metadata": {},
   "source": [
    "\n",
    "Incluso si faltan algunos elementos en los diccionarios, Pandas las completará con valores ``NaN`` (es decir, \"not a number\"):"
   ]
  },
  {
   "cell_type": "code",
   "execution_count": 42,
   "metadata": {},
   "outputs": [
    {
     "data": {
      "text/html": [
       "<div>\n",
       "<style scoped>\n",
       "    .dataframe tbody tr th:only-of-type {\n",
       "        vertical-align: middle;\n",
       "    }\n",
       "\n",
       "    .dataframe tbody tr th {\n",
       "        vertical-align: top;\n",
       "    }\n",
       "\n",
       "    .dataframe thead th {\n",
       "        text-align: right;\n",
       "    }\n",
       "</style>\n",
       "<table border=\"1\" class=\"dataframe\">\n",
       "  <thead>\n",
       "    <tr style=\"text-align: right;\">\n",
       "      <th></th>\n",
       "      <th>a</th>\n",
       "      <th>b</th>\n",
       "    </tr>\n",
       "  </thead>\n",
       "  <tbody>\n",
       "    <tr>\n",
       "      <th>x</th>\n",
       "      <td>1.0</td>\n",
       "      <td>11.0</td>\n",
       "    </tr>\n",
       "    <tr>\n",
       "      <th>y</th>\n",
       "      <td>2.0</td>\n",
       "      <td>12.0</td>\n",
       "    </tr>\n",
       "    <tr>\n",
       "      <th>z</th>\n",
       "      <td>3.0</td>\n",
       "      <td>13.0</td>\n",
       "    </tr>\n",
       "    <tr>\n",
       "      <th>m</th>\n",
       "      <td>5.0</td>\n",
       "      <td>NaN</td>\n",
       "    </tr>\n",
       "    <tr>\n",
       "      <th>n</th>\n",
       "      <td>NaN</td>\n",
       "      <td>10.0</td>\n",
       "    </tr>\n",
       "  </tbody>\n",
       "</table>\n",
       "</div>"
      ],
      "text/plain": [
       "     a     b\n",
       "x  1.0  11.0\n",
       "y  2.0  12.0\n",
       "z  3.0  13.0\n",
       "m  5.0   NaN\n",
       "n  NaN  10.0"
      ]
     },
     "execution_count": 42,
     "metadata": {},
     "output_type": "execute_result"
    }
   ],
   "source": [
    "diccionario = {'a': {'x':1, 'y':2, 'z':3, 'm':5},\n",
    "               'b': {'x':11, 'y':12, 'z':13, 'n':10}\n",
    "              }\n",
    "pd.DataFrame(diccionario)"
   ]
  },
  {
   "cell_type": "markdown",
   "metadata": {},
   "source": [
    "#### c) Desde un arreglo bidimensional de  NumPy \n",
    "\n",
    "Dada un arreglo bidimensional de datos, podemos crear un **DataFrame** con cualquier columna e índice especificado. Si se omite, se utilizará un índice entero para cada uno"
   ]
  },
  {
   "cell_type": "code",
   "execution_count": 43,
   "metadata": {},
   "outputs": [
    {
     "data": {
      "text/plain": [
       "array([[0.97545451, 0.47102817],\n",
       "       [0.573464  , 0.74058784],\n",
       "       [0.08888557, 0.22618403]])"
      ]
     },
     "execution_count": 43,
     "metadata": {},
     "output_type": "execute_result"
    }
   ],
   "source": [
    "# np.random.rand(3, 2)\n",
    "arreglo2D = np.random.rand(3, 2) #utiliza la funcion random y crea un arreglo de 3 filas con 2 columnas\n",
    "arreglo2D"
   ]
  },
  {
   "cell_type": "code",
   "execution_count": 46,
   "metadata": {},
   "outputs": [
    {
     "data": {
      "text/html": [
       "<div>\n",
       "<style scoped>\n",
       "    .dataframe tbody tr th:only-of-type {\n",
       "        vertical-align: middle;\n",
       "    }\n",
       "\n",
       "    .dataframe tbody tr th {\n",
       "        vertical-align: top;\n",
       "    }\n",
       "\n",
       "    .dataframe thead th {\n",
       "        text-align: right;\n",
       "    }\n",
       "</style>\n",
       "<table border=\"1\" class=\"dataframe\">\n",
       "  <thead>\n",
       "    <tr style=\"text-align: right;\">\n",
       "      <th></th>\n",
       "      <th>A</th>\n",
       "      <th>B</th>\n",
       "    </tr>\n",
       "  </thead>\n",
       "  <tbody>\n",
       "    <tr>\n",
       "      <th>x</th>\n",
       "      <td>0.975455</td>\n",
       "      <td>0.471028</td>\n",
       "    </tr>\n",
       "    <tr>\n",
       "      <th>y</th>\n",
       "      <td>0.573464</td>\n",
       "      <td>0.740588</td>\n",
       "    </tr>\n",
       "    <tr>\n",
       "      <th>z</th>\n",
       "      <td>0.088886</td>\n",
       "      <td>0.226184</td>\n",
       "    </tr>\n",
       "  </tbody>\n",
       "</table>\n",
       "</div>"
      ],
      "text/plain": [
       "          A         B\n",
       "x  0.975455  0.471028\n",
       "y  0.573464  0.740588\n",
       "z  0.088886  0.226184"
      ]
     },
     "execution_count": 46,
     "metadata": {},
     "output_type": "execute_result"
    }
   ],
   "source": [
    "# Cuando se especifican los índices de filas y columnas\n",
    "\n",
    "#Crea un dataframe a partir de un arreglo bidimensional y especifica las etiquetas de las filas y las columnas\n",
    "pd.DataFrame(arreglo2D,\n",
    "            columns=['A', 'B'],\n",
    "            index=['x', 'y', 'z'])"
   ]
  },
  {
   "cell_type": "code",
   "execution_count": 48,
   "metadata": {},
   "outputs": [
    {
     "data": {
      "text/html": [
       "<div>\n",
       "<style scoped>\n",
       "    .dataframe tbody tr th:only-of-type {\n",
       "        vertical-align: middle;\n",
       "    }\n",
       "\n",
       "    .dataframe tbody tr th {\n",
       "        vertical-align: top;\n",
       "    }\n",
       "\n",
       "    .dataframe thead th {\n",
       "        text-align: right;\n",
       "    }\n",
       "</style>\n",
       "<table border=\"1\" class=\"dataframe\">\n",
       "  <thead>\n",
       "    <tr style=\"text-align: right;\">\n",
       "      <th></th>\n",
       "      <th>A</th>\n",
       "      <th>B</th>\n",
       "    </tr>\n",
       "  </thead>\n",
       "  <tbody>\n",
       "    <tr>\n",
       "      <th>0</th>\n",
       "      <td>0.975455</td>\n",
       "      <td>0.471028</td>\n",
       "    </tr>\n",
       "    <tr>\n",
       "      <th>1</th>\n",
       "      <td>0.573464</td>\n",
       "      <td>0.740588</td>\n",
       "    </tr>\n",
       "    <tr>\n",
       "      <th>2</th>\n",
       "      <td>0.088886</td>\n",
       "      <td>0.226184</td>\n",
       "    </tr>\n",
       "  </tbody>\n",
       "</table>\n",
       "</div>"
      ],
      "text/plain": [
       "          A         B\n",
       "0  0.975455  0.471028\n",
       "1  0.573464  0.740588\n",
       "2  0.088886  0.226184"
      ]
     },
     "execution_count": 48,
     "metadata": {},
     "output_type": "execute_result"
    }
   ],
   "source": [
    "# Cuando se especifican los índices solo en columnas\n",
    "pd.DataFrame(arreglo2D,\n",
    "            columns=['A', 'B'])"
   ]
  },
  {
   "cell_type": "code",
   "execution_count": 49,
   "metadata": {},
   "outputs": [
    {
     "data": {
      "text/html": [
       "<div>\n",
       "<style scoped>\n",
       "    .dataframe tbody tr th:only-of-type {\n",
       "        vertical-align: middle;\n",
       "    }\n",
       "\n",
       "    .dataframe tbody tr th {\n",
       "        vertical-align: top;\n",
       "    }\n",
       "\n",
       "    .dataframe thead th {\n",
       "        text-align: right;\n",
       "    }\n",
       "</style>\n",
       "<table border=\"1\" class=\"dataframe\">\n",
       "  <thead>\n",
       "    <tr style=\"text-align: right;\">\n",
       "      <th></th>\n",
       "      <th>0</th>\n",
       "      <th>1</th>\n",
       "    </tr>\n",
       "  </thead>\n",
       "  <tbody>\n",
       "    <tr>\n",
       "      <th>0</th>\n",
       "      <td>0.975455</td>\n",
       "      <td>0.471028</td>\n",
       "    </tr>\n",
       "    <tr>\n",
       "      <th>1</th>\n",
       "      <td>0.573464</td>\n",
       "      <td>0.740588</td>\n",
       "    </tr>\n",
       "    <tr>\n",
       "      <th>2</th>\n",
       "      <td>0.088886</td>\n",
       "      <td>0.226184</td>\n",
       "    </tr>\n",
       "  </tbody>\n",
       "</table>\n",
       "</div>"
      ],
      "text/plain": [
       "          0         1\n",
       "0  0.975455  0.471028\n",
       "1  0.573464  0.740588\n",
       "2  0.088886  0.226184"
      ]
     },
     "execution_count": 49,
     "metadata": {},
     "output_type": "execute_result"
    }
   ],
   "source": [
    "# Cuando no se especifican los índices \n",
    "pd.DataFrame(arreglo2D)"
   ]
  },
  {
   "cell_type": "markdown",
   "metadata": {},
   "source": [
    "Para manejar de una manera eficiente los **DataFrame** se recomienda siempre asignar nombres a las columnas"
   ]
  },
  {
   "cell_type": "markdown",
   "metadata": {},
   "source": [
    "#### d)  Combinando  Series\n",
    "\n",
    "Como vimos antes, un **DataFrame** también se puede construir a partir de **Series**"
   ]
  },
  {
   "cell_type": "code",
   "execution_count": 51,
   "metadata": {},
   "outputs": [
    {
     "data": {
      "text/html": [
       "<div>\n",
       "<style scoped>\n",
       "    .dataframe tbody tr th:only-of-type {\n",
       "        vertical-align: middle;\n",
       "    }\n",
       "\n",
       "    .dataframe tbody tr th {\n",
       "        vertical-align: top;\n",
       "    }\n",
       "\n",
       "    .dataframe thead th {\n",
       "        text-align: right;\n",
       "    }\n",
       "</style>\n",
       "<table border=\"1\" class=\"dataframe\">\n",
       "  <thead>\n",
       "    <tr style=\"text-align: right;\">\n",
       "      <th></th>\n",
       "      <th>e_poblacion</th>\n",
       "      <th>e_area</th>\n",
       "    </tr>\n",
       "  </thead>\n",
       "  <tbody>\n",
       "    <tr>\n",
       "      <th>California</th>\n",
       "      <td>38.3</td>\n",
       "      <td>423967</td>\n",
       "    </tr>\n",
       "    <tr>\n",
       "      <th>Texas</th>\n",
       "      <td>26.4</td>\n",
       "      <td>695662</td>\n",
       "    </tr>\n",
       "    <tr>\n",
       "      <th>New York</th>\n",
       "      <td>19.6</td>\n",
       "      <td>141297</td>\n",
       "    </tr>\n",
       "    <tr>\n",
       "      <th>Florida</th>\n",
       "      <td>19.5</td>\n",
       "      <td>170312</td>\n",
       "    </tr>\n",
       "    <tr>\n",
       "      <th>Illinois</th>\n",
       "      <td>12.8</td>\n",
       "      <td>149995</td>\n",
       "    </tr>\n",
       "    <tr>\n",
       "      <th>Washington</th>\n",
       "      <td>17.5</td>\n",
       "      <td>289990</td>\n",
       "    </tr>\n",
       "  </tbody>\n",
       "</table>\n",
       "</div>"
      ],
      "text/plain": [
       "            e_poblacion  e_area\n",
       "California         38.3  423967\n",
       "Texas              26.4  695662\n",
       "New York           19.6  141297\n",
       "Florida            19.5  170312\n",
       "Illinois           12.8  149995\n",
       "Washington         17.5  289990"
      ]
     },
     "execution_count": 51,
     "metadata": {},
     "output_type": "execute_result"
    }
   ],
   "source": [
    "# poblacion + area\n",
    "\n",
    "pd.DataFrame({'e_poblacion' : poblacion, \n",
    "               'e_area' : area}) #el valor lleva el nombre de la serie, las etiquetas no necesariamente"
   ]
  },
  {
   "cell_type": "markdown",
   "metadata": {},
   "source": [
    "#####  Ejemplo de un DataFrame a partir de Series y Series a partir de diccionarios"
   ]
  },
  {
   "cell_type": "markdown",
   "metadata": {},
   "source": [
    "Definiremos un DataFrame utilizando 5 diferentes Series, y las Series a partir de Diccionarios utilizando información de Pokémon. Consideraremos 2 variables cuantitativas (altura y peso ) y 3 cualitativas (categoría, tipo y debilidad)\n",
    "\n",
    "[https://www.lavanguardia.com/tecnologia/20160907/403442078796/todos-pokemon.html]\n",
    "\n",
    "<img align=\"left\" width=75% src=\"figuras/pokemones.png\">"
   ]
  },
  {
   "cell_type": "markdown",
   "metadata": {},
   "source": [
    "**1. Diccionarios**"
   ]
  },
  {
   "cell_type": "code",
   "execution_count": 52,
   "metadata": {},
   "outputs": [
    {
     "data": {
      "text/plain": [
       "Altura                 0.7\n",
       "Peso                   6.9\n",
       "Categoría          Semilla\n",
       "Tipo                Planta\n",
       "Debilidad    Hielo y fuego\n",
       "dtype: object"
      ]
     },
     "execution_count": 52,
     "metadata": {},
     "output_type": "execute_result"
    }
   ],
   "source": [
    "bulbasaur_diccionario = {'Altura': 0.7, 'Peso': 6.9, 'Categoría': 'Semilla',\n",
    "             'Tipo': 'Planta', 'Debilidad':  'Hielo y fuego'}\n",
    "bulbasaur = pd.Series(bulbasaur_diccionario)\n",
    "bulbasaur"
   ]
  },
  {
   "cell_type": "code",
   "execution_count": 53,
   "metadata": {},
   "outputs": [
    {
     "data": {
      "text/plain": [
       "Altura                 0.6\n",
       "Peso                   8.5\n",
       "Categoría        Lagartija\n",
       "Tipo                 Fuego\n",
       "Debilidad    Tierra y agua\n",
       "dtype: object"
      ]
     },
     "execution_count": 53,
     "metadata": {},
     "output_type": "execute_result"
    }
   ],
   "source": [
    "charmander_diccionario = {'Altura': 0.6, 'Peso': 8.5, 'Categoría': 'Lagartija',\n",
    "             'Tipo': 'Fuego', 'Debilidad':  'Tierra y agua'}\n",
    "charmander = pd.Series(charmander_diccionario)\n",
    "charmander"
   ]
  },
  {
   "cell_type": "code",
   "execution_count": 54,
   "metadata": {},
   "outputs": [
    {
     "data": {
      "text/plain": [
       "Altura                0.5\n",
       "Peso                  9.0\n",
       "Categoría         Tortuga\n",
       "Debilidad    Electricidad\n",
       "dtype: object"
      ]
     },
     "execution_count": 54,
     "metadata": {},
     "output_type": "execute_result"
    }
   ],
   "source": [
    "squirtle_diccionario = {'Altura': 0.5, 'Peso': 9.0, 'Categoría': 'Tortuga',\n",
    "              'Debilidad':  'Electricidad'}\n",
    "squirtle = pd.Series(squirtle_diccionario)\n",
    "squirtle"
   ]
  },
  {
   "cell_type": "code",
   "execution_count": 55,
   "metadata": {},
   "outputs": [
    {
     "data": {
      "text/plain": [
       "Altura          0.3\n",
       "Peso            2.9\n",
       "Categoría    Gusano\n",
       "Tipo          Bicho\n",
       "dtype: object"
      ]
     },
     "execution_count": 55,
     "metadata": {},
     "output_type": "execute_result"
    }
   ],
   "source": [
    "caterpie_diccionario = {'Altura': 0.3, 'Peso': 2.9, 'Categoría': 'Gusano',\n",
    "             'Tipo':  'Bicho'}\n",
    "caterpie = pd.Series(caterpie_diccionario)\n",
    "caterpie"
   ]
  },
  {
   "cell_type": "code",
   "execution_count": 56,
   "metadata": {},
   "outputs": [
    {
     "data": {
      "text/plain": [
       "Altura         0.3\n",
       "Peso           1.8\n",
       "Debilidad    Hielo\n",
       "dtype: object"
      ]
     },
     "execution_count": 56,
     "metadata": {},
     "output_type": "execute_result"
    }
   ],
   "source": [
    "pidgey_diccionario = {'Altura': 0.3, 'Peso': 1.8, 'Debilidad':  'Hielo'}\n",
    "pidgey = pd.Series(pidgey_diccionario)\n",
    "pidgey"
   ]
  },
  {
   "cell_type": "markdown",
   "metadata": {},
   "source": [
    "**2. Series**"
   ]
  },
  {
   "cell_type": "code",
   "execution_count": 57,
   "metadata": {},
   "outputs": [
    {
     "data": {
      "text/html": [
       "<div>\n",
       "<style scoped>\n",
       "    .dataframe tbody tr th:only-of-type {\n",
       "        vertical-align: middle;\n",
       "    }\n",
       "\n",
       "    .dataframe tbody tr th {\n",
       "        vertical-align: top;\n",
       "    }\n",
       "\n",
       "    .dataframe thead th {\n",
       "        text-align: right;\n",
       "    }\n",
       "</style>\n",
       "<table border=\"1\" class=\"dataframe\">\n",
       "  <thead>\n",
       "    <tr style=\"text-align: right;\">\n",
       "      <th></th>\n",
       "      <th>Bulbasaur</th>\n",
       "      <th>Charmander</th>\n",
       "      <th>Squirtle</th>\n",
       "      <th>Caterpie</th>\n",
       "      <th>Pidgey</th>\n",
       "    </tr>\n",
       "  </thead>\n",
       "  <tbody>\n",
       "    <tr>\n",
       "      <th>Altura</th>\n",
       "      <td>0.7</td>\n",
       "      <td>0.6</td>\n",
       "      <td>0.5</td>\n",
       "      <td>0.3</td>\n",
       "      <td>0.3</td>\n",
       "    </tr>\n",
       "    <tr>\n",
       "      <th>Categoría</th>\n",
       "      <td>Semilla</td>\n",
       "      <td>Lagartija</td>\n",
       "      <td>Tortuga</td>\n",
       "      <td>Gusano</td>\n",
       "      <td>NaN</td>\n",
       "    </tr>\n",
       "    <tr>\n",
       "      <th>Debilidad</th>\n",
       "      <td>Hielo y fuego</td>\n",
       "      <td>Tierra y agua</td>\n",
       "      <td>Electricidad</td>\n",
       "      <td>NaN</td>\n",
       "      <td>Hielo</td>\n",
       "    </tr>\n",
       "    <tr>\n",
       "      <th>Peso</th>\n",
       "      <td>6.9</td>\n",
       "      <td>8.5</td>\n",
       "      <td>9.0</td>\n",
       "      <td>2.9</td>\n",
       "      <td>1.8</td>\n",
       "    </tr>\n",
       "    <tr>\n",
       "      <th>Tipo</th>\n",
       "      <td>Planta</td>\n",
       "      <td>Fuego</td>\n",
       "      <td>NaN</td>\n",
       "      <td>Bicho</td>\n",
       "      <td>NaN</td>\n",
       "    </tr>\n",
       "  </tbody>\n",
       "</table>\n",
       "</div>"
      ],
      "text/plain": [
       "               Bulbasaur     Charmander      Squirtle Caterpie Pidgey\n",
       "Altura               0.7            0.6           0.5      0.3    0.3\n",
       "Categoría        Semilla      Lagartija       Tortuga   Gusano    NaN\n",
       "Debilidad  Hielo y fuego  Tierra y agua  Electricidad      NaN  Hielo\n",
       "Peso                 6.9            8.5           9.0      2.9    1.8\n",
       "Tipo              Planta          Fuego           NaN    Bicho    NaN"
      ]
     },
     "execution_count": 57,
     "metadata": {},
     "output_type": "execute_result"
    }
   ],
   "source": [
    "df_pokemones= pd.DataFrame({'Bulbasaur':bulbasaur,\n",
    "              'Charmander': charmander, \n",
    "              'Squirtle': squirtle, \n",
    "              'Caterpie': caterpie, \n",
    "              'Pidgey': pidgey,               \n",
    "             })\n",
    "df_pokemones"
   ]
  },
  {
   "cell_type": "markdown",
   "metadata": {},
   "source": [
    "# Ejercicio"
   ]
  },
  {
   "cell_type": "markdown",
   "metadata": {},
   "source": [
    "<div class=\"alert alert-success\">\n",
    "\n",
    "**Creación de un DataFrame con series y diccionarios**\n",
    "    \n",
    "1. Definir un DataFrame a partir de 5 series y cada Serie a partir de un diccionario (de algún mismo tópico), considerando  6 características diferentes y combinando tipos de variables (cuantitativas y cualitativas), también puede omitir algunos valores. \n",
    "</div>\n",
    "\n",
    "Ejemplo:\n",
    "\n",
    "\n",
    "``` python\n",
    "Alan = pd.Series({'Edad': 20 ,\n",
    "                  'Altura': 1.70,\n",
    "                  'Peso': 68,\n",
    "                  'Estado': 'Yucatán',\n",
    "                  'Color favorito':'Azul',\n",
    "                  'Licenciatura': 'Derecho'})\n",
    "María = pd.Series({'Edad': 21 ,\n",
    "                   'Altura': 1.80,\n",
    "                   'Peso': 80,\n",
    "                   'Color favorito':'Rojo',\n",
    "                   'Licenciatura': 'Ingeniería'})\n",
    "Pedro = pd.Series({'Edad': 23 ,\n",
    "                   'Altura': 1.67,\n",
    "                   'Peso': 75,\n",
    "                   'Estado': 'Aguascalientes',\n",
    "                   'Color favorito':'Morado',\n",
    "                   'Licenciatura': 'Artes'})\n",
    "Esmeralda = pd.Series({'Edad': 25 ,\n",
    "                       'Altura': 1.72,\n",
    "                       'Peso': 60,\n",
    "                       'Estado': 'Campeche',\n",
    "                       'Licenciatura': 'Turismo'})\n",
    "Karen = pd.Series({'Edad': 25 ,\n",
    "                  'Altura': 1.74,\n",
    "                  'Peso': 69,\n",
    "                  'Estado': '',\n",
    "                  'Color favorito':'Azul',\n",
    "                  'Licenciatura': 'Psicología'})\n",
    "\n",
    "df_alumnos = pd.DataFrame({'Alan':Alan,\n",
    "                           'María': María, \n",
    "                           'Pedro': Pedro, \n",
    "                           'Esmeralda': Esmeralda, \n",
    "                           'Karen': Karen\n",
    "                           })\n",
    "df_alumnos\n",
    "\n",
    ">>\n",
    "\n",
    "                   Alan       María           Pedro Esmeralda       Karen\n",
    "Altura              1.7         1.8            1.67      1.72        1.74\n",
    "Color favorito     Azul        Rojo          Morado       NaN        Azul\n",
    "Edad                 20          21              23        25          25\n",
    "Estado          Yucatán         NaN  Aguascalientes  Campeche            \n",
    "Licenciatura    Derecho  Ingeniería           Artes   Turismo  Psicología\n",
    "Peso                 68          80              75        60          69\n",
    "\n",
    "\n",
    "```"
   ]
  },
  {
   "cell_type": "code",
   "execution_count": 9,
   "metadata": {},
   "outputs": [
    {
     "data": {
      "text/html": [
       "<div>\n",
       "<style scoped>\n",
       "    .dataframe tbody tr th:only-of-type {\n",
       "        vertical-align: middle;\n",
       "    }\n",
       "\n",
       "    .dataframe tbody tr th {\n",
       "        vertical-align: top;\n",
       "    }\n",
       "\n",
       "    .dataframe thead th {\n",
       "        text-align: right;\n",
       "    }\n",
       "</style>\n",
       "<table border=\"1\" class=\"dataframe\">\n",
       "  <thead>\n",
       "    <tr style=\"text-align: right;\">\n",
       "      <th></th>\n",
       "      <th>Soobin</th>\n",
       "      <th>Mark</th>\n",
       "      <th>Xiaojun</th>\n",
       "      <th>Seeun</th>\n",
       "      <th>Bahiyyih</th>\n",
       "    </tr>\n",
       "  </thead>\n",
       "  <tbody>\n",
       "    <tr>\n",
       "      <th>Edad</th>\n",
       "      <td>22</td>\n",
       "      <td>24</td>\n",
       "      <td>24</td>\n",
       "      <td>20</td>\n",
       "      <td>19</td>\n",
       "    </tr>\n",
       "    <tr>\n",
       "      <th>Empresa</th>\n",
       "      <td>BigHit Music</td>\n",
       "      <td>SM Entertainment</td>\n",
       "      <td>LABEL V</td>\n",
       "      <td>High Up Entertainment</td>\n",
       "      <td>WAKE ONE</td>\n",
       "    </tr>\n",
       "    <tr>\n",
       "      <th>Estatura</th>\n",
       "      <td>1.85</td>\n",
       "      <td>1.75</td>\n",
       "      <td>NaN</td>\n",
       "      <td>1.65</td>\n",
       "      <td>1.66</td>\n",
       "    </tr>\n",
       "    <tr>\n",
       "      <th>Grupo</th>\n",
       "      <td>Tomorrow X Together</td>\n",
       "      <td>NCT 127/Dream</td>\n",
       "      <td>WayV</td>\n",
       "      <td>StayC</td>\n",
       "      <td>Kep1er</td>\n",
       "    </tr>\n",
       "    <tr>\n",
       "      <th>Nacionalidad</th>\n",
       "      <td>Coreano</td>\n",
       "      <td>Canadiense</td>\n",
       "      <td>Chino</td>\n",
       "      <td>Coreana</td>\n",
       "      <td>NaN</td>\n",
       "    </tr>\n",
       "    <tr>\n",
       "      <th>Posición</th>\n",
       "      <td>Líder</td>\n",
       "      <td>Rapero</td>\n",
       "      <td>Vocalista</td>\n",
       "      <td>Vocalista</td>\n",
       "      <td>Bailarina</td>\n",
       "    </tr>\n",
       "  </tbody>\n",
       "</table>\n",
       "</div>"
      ],
      "text/plain": [
       "                           Soobin              Mark    Xiaojun  \\\n",
       "Edad                           22                24         24   \n",
       "Empresa              BigHit Music  SM Entertainment    LABEL V   \n",
       "Estatura                     1.85              1.75        NaN   \n",
       "Grupo         Tomorrow X Together     NCT 127/Dream       WayV   \n",
       "Nacionalidad              Coreano        Canadiense      Chino   \n",
       "Posición                    Líder            Rapero  Vocalista   \n",
       "\n",
       "                              Seeun   Bahiyyih  \n",
       "Edad                             20         19  \n",
       "Empresa       High Up Entertainment   WAKE ONE  \n",
       "Estatura                       1.65       1.66  \n",
       "Grupo                         StayC     Kep1er  \n",
       "Nacionalidad                Coreana        NaN  \n",
       "Posición                  Vocalista  Bailarina  "
      ]
     },
     "execution_count": 9,
     "metadata": {},
     "output_type": "execute_result"
    }
   ],
   "source": [
    "Soobin = pd.Series({'Grupo': 'Tomorrow X Together',\n",
    "                    'Empresa': 'BigHit Music',\n",
    "                    'Posición': 'Líder',\n",
    "                    'Nacionalidad': 'Coreano',\n",
    "                    'Estatura': 1.85,\n",
    "                    'Edad': 22})\n",
    "Mark = pd.Series({'Grupo': 'NCT 127/Dream',\n",
    "                  'Empresa': 'SM Entertainment',\n",
    "                  'Posición': 'Rapero',\n",
    "                  'Nacionalidad': 'Canadiense',\n",
    "                  'Estatura': 1.75,\n",
    "                  'Edad': 24})\n",
    "Xiaojun = pd.Series({'Grupo': 'WayV',\n",
    "                     'Empresa': 'LABEL V',\n",
    "                     'Posición': 'Vocalista',\n",
    "                     'Nacionalidad': 'Chino',\n",
    "                     #'Estatura': '1.72',\n",
    "                     'Edad': 24})\n",
    "Seeun = pd.Series({'Grupo': 'StayC',\n",
    "                   'Empresa': 'High Up Entertainment',\n",
    "                   'Posición': 'Vocalista',\n",
    "                   'Nacionalidad': 'Coreana',\n",
    "                   'Estatura': 1.65,\n",
    "                   'Edad': 20})\n",
    "Bahiyyih = pd.Series({'Grupo': 'Kep1er',\n",
    "                      'Empresa': 'WAKE ONE',\n",
    "                      'Posición': 'Bailarina',\n",
    "                      #'Nacionalidad': '',\n",
    "                      'Estatura': 1.66,\n",
    "                      'Edad': 19})\n",
    "\n",
    "df_idols = pd.DataFrame({'Soobin':Soobin,\n",
    "                         'Mark':Mark,\n",
    "                         'Xiaojun':Xiaojun,\n",
    "                         'Seeun':Seeun,\n",
    "                         'Bahiyyih':Bahiyyih\n",
    "                        })\n",
    "\n",
    "df_idols"
   ]
  },
  {
   "cell_type": "markdown",
   "metadata": {},
   "source": [
    "<div class=\"alert alert-success\">\n",
    "    \n",
    "**Creación de un DataFrame vacío**\n",
    "    \n",
    "2. Definir un DataFrame que contenga un listado de 5 datos de 10 personas (utilizar el método del siguiente ejemplo). \n",
    "</div>\n",
    "\n",
    "Ejemplo:\n",
    "\n",
    "\n",
    "``` python\n",
    "import pandas as pd\n",
    "df = pd.DataFrame()\n",
    "df['first_name'] = ['Josy', 'Vaughn', 'Neale', 'Teirtza']\n",
    "df['last_name'] = ['Clarae', 'Halegarth', 'Georgievski', 'Teirtza']\n",
    "df['gender'] = ['Female', 'Male', 'Male', 'Female']\n",
    "print(df)\n",
    "\n",
    "\n",
    "  first_name    last_name  gender\n",
    "0       Josy       Clarae  Female\n",
    "1     Vaughn    Halegarth    Male\n",
    "2      Neale  Georgievski    Male\n",
    "3    Teirtza      Teirtza  Female\n",
    "\n",
    "```"
   ]
  },
  {
   "cell_type": "code",
   "execution_count": 36,
   "metadata": {},
   "outputs": [
    {
     "data": {
      "text/html": [
       "<div>\n",
       "<style scoped>\n",
       "    .dataframe tbody tr th:only-of-type {\n",
       "        vertical-align: middle;\n",
       "    }\n",
       "\n",
       "    .dataframe tbody tr th {\n",
       "        vertical-align: top;\n",
       "    }\n",
       "\n",
       "    .dataframe thead th {\n",
       "        text-align: right;\n",
       "    }\n",
       "</style>\n",
       "<table border=\"1\" class=\"dataframe\">\n",
       "  <thead>\n",
       "    <tr style=\"text-align: right;\">\n",
       "      <th></th>\n",
       "      <th>Nombre</th>\n",
       "      <th>Apellido</th>\n",
       "      <th>Edad</th>\n",
       "      <th>Licenciatura</th>\n",
       "      <th>Universidad</th>\n",
       "    </tr>\n",
       "  </thead>\n",
       "  <tbody>\n",
       "    <tr>\n",
       "      <th>0</th>\n",
       "      <td>Victoria</td>\n",
       "      <td>Ortega</td>\n",
       "      <td>22</td>\n",
       "      <td>Diseño y comunicación</td>\n",
       "      <td>UVM</td>\n",
       "    </tr>\n",
       "    <tr>\n",
       "      <th>1</th>\n",
       "      <td>Pedro</td>\n",
       "      <td>Sarmiento</td>\n",
       "      <td>18</td>\n",
       "      <td>Comercio Internacional</td>\n",
       "      <td>Anáhuac</td>\n",
       "    </tr>\n",
       "    <tr>\n",
       "      <th>2</th>\n",
       "      <td>Maria</td>\n",
       "      <td>Arias</td>\n",
       "      <td>24</td>\n",
       "      <td>Veterinaria</td>\n",
       "      <td>UADY</td>\n",
       "    </tr>\n",
       "    <tr>\n",
       "      <th>3</th>\n",
       "      <td>Santiago</td>\n",
       "      <td>Ortega</td>\n",
       "      <td>19</td>\n",
       "      <td>Ing. en Software</td>\n",
       "      <td>Modelo</td>\n",
       "    </tr>\n",
       "    <tr>\n",
       "      <th>4</th>\n",
       "      <td>Estefania</td>\n",
       "      <td>Perera</td>\n",
       "      <td>20</td>\n",
       "      <td>Derecho</td>\n",
       "      <td>UADY</td>\n",
       "    </tr>\n",
       "    <tr>\n",
       "      <th>5</th>\n",
       "      <td>Paola</td>\n",
       "      <td>González</td>\n",
       "      <td>25</td>\n",
       "      <td>Derecho</td>\n",
       "      <td>Anáhuac</td>\n",
       "    </tr>\n",
       "    <tr>\n",
       "      <th>6</th>\n",
       "      <td>Pauly</td>\n",
       "      <td>Acal</td>\n",
       "      <td>21</td>\n",
       "      <td>Biología</td>\n",
       "      <td>UADY</td>\n",
       "    </tr>\n",
       "    <tr>\n",
       "      <th>7</th>\n",
       "      <td>Carlos</td>\n",
       "      <td>Sáenz</td>\n",
       "      <td>24</td>\n",
       "      <td>Ing. en Mecatrónica</td>\n",
       "      <td>UADY</td>\n",
       "    </tr>\n",
       "    <tr>\n",
       "      <th>8</th>\n",
       "      <td>Karla</td>\n",
       "      <td>Leyva</td>\n",
       "      <td>24</td>\n",
       "      <td>Ing. Renovable</td>\n",
       "      <td>UADY</td>\n",
       "    </tr>\n",
       "    <tr>\n",
       "      <th>9</th>\n",
       "      <td>Andrea</td>\n",
       "      <td>Solis</td>\n",
       "      <td>27</td>\n",
       "      <td>Literatura</td>\n",
       "      <td>UADY</td>\n",
       "    </tr>\n",
       "  </tbody>\n",
       "</table>\n",
       "</div>"
      ],
      "text/plain": [
       "      Nombre   Apellido Edad            Licenciatura Universidad\n",
       "0   Victoria     Ortega   22   Diseño y comunicación         UVM\n",
       "1      Pedro  Sarmiento   18  Comercio Internacional     Anáhuac\n",
       "2      Maria      Arias   24             Veterinaria        UADY\n",
       "3   Santiago     Ortega   19        Ing. en Software      Modelo\n",
       "4  Estefania     Perera   20                 Derecho        UADY\n",
       "5      Paola   González   25                 Derecho     Anáhuac\n",
       "6      Pauly       Acal   21                Biología        UADY\n",
       "7     Carlos      Sáenz   24     Ing. en Mecatrónica        UADY\n",
       "8      Karla      Leyva   24          Ing. Renovable        UADY\n",
       "9     Andrea      Solis   27              Literatura        UADY"
      ]
     },
     "execution_count": 36,
     "metadata": {},
     "output_type": "execute_result"
    }
   ],
   "source": [
    "import pandas as pd\n",
    "df = pd.DataFrame()\n",
    "df['Nombre'] = ['Victoria', 'Pedro', 'Maria', 'Santiago', 'Estefania', 'Paola', 'Pauly', 'Carlos', 'Karla', 'Andrea']\n",
    "df['Apellido'] = ['Ortega', 'Sarmiento', 'Arias', 'Ortega', 'Perera', 'González', 'Acal', 'Sáenz', 'Leyva', 'Solis']\n",
    "df['Edad'] = ['22', '18', '24', '19', '20', '25', '21', '24', '24', '27']\n",
    "df['Licenciatura'] = ['Diseño y comunicación', 'Comercio Internacional', 'Veterinaria', 'Ing. en Software', 'Derecho', 'Derecho', 'Biología', 'Ing. en Mecatrónica', 'Ing. Renovable', 'Literatura']\n",
    "df['Universidad'] = ['UVM', 'Anáhuac', 'UADY', 'Modelo', 'UADY', 'Anáhuac', 'UADY', 'UADY', 'UADY', 'UADY']\n",
    "df"
   ]
  },
  {
   "cell_type": "markdown",
   "metadata": {},
   "source": [
    "<div class=\"alert alert-success\">\n",
    "\n",
    "**Creación de un DataFrame vacío con columnas**\n",
    "\n",
    "3. Definir un DataFrame que contenga un listado de 4 parámetros de 6 modelos de automóviles (utilizar el método del siguiente ejemplo). \n",
    "</div>\n",
    "\n",
    "Ejemplo:\n",
    "\n",
    "\n",
    "``` python\n",
    "import pandas as pd\n",
    "df = pd.DataFrame()\n",
    "df = pd.DataFrame(columns=['first_name', 'last_name', 'gender'])\n",
    "df = df.append({'first_name': 'Josy', 'last_name':'Clarae', 'gender':'Female'}, ignore_index=True)\n",
    "df = df.append({'first_name': 'Vaughn', 'last_name':'Halegarth', 'gender':'Male'}, ignore_index=True)\n",
    "print(df)\n",
    "\n",
    "\n",
    "  first_name  last_name  gender\n",
    "0       Josy     Clarae  Female\n",
    "1     Vaughn  Halegarth    Male\n",
    "```"
   ]
  },
  {
   "cell_type": "code",
   "execution_count": 37,
   "metadata": {},
   "outputs": [
    {
     "data": {
      "text/html": [
       "<div>\n",
       "<style scoped>\n",
       "    .dataframe tbody tr th:only-of-type {\n",
       "        vertical-align: middle;\n",
       "    }\n",
       "\n",
       "    .dataframe tbody tr th {\n",
       "        vertical-align: top;\n",
       "    }\n",
       "\n",
       "    .dataframe thead tr th {\n",
       "        text-align: left;\n",
       "    }\n",
       "</style>\n",
       "<table border=\"1\" class=\"dataframe\">\n",
       "  <thead>\n",
       "    <tr>\n",
       "      <th></th>\n",
       "      <th>Marca</th>\n",
       "      <th>Modelo</th>\n",
       "      <th>Motor</th>\n",
       "      <th>Transmisión</th>\n",
       "    </tr>\n",
       "  </thead>\n",
       "  <tbody>\n",
       "    <tr>\n",
       "      <th>0</th>\n",
       "      <td>None</td>\n",
       "      <td>None</td>\n",
       "      <td>None</td>\n",
       "      <td>None</td>\n",
       "    </tr>\n",
       "    <tr>\n",
       "      <th>1</th>\n",
       "      <td>Volkswagen</td>\n",
       "      <td>Jetta</td>\n",
       "      <td>1.4 L TSI</td>\n",
       "      <td>Manual 6</td>\n",
       "    </tr>\n",
       "    <tr>\n",
       "      <th>2</th>\n",
       "      <td>Toyota</td>\n",
       "      <td>Corolla</td>\n",
       "      <td>1.8 L TDI</td>\n",
       "      <td>CVT</td>\n",
       "    </tr>\n",
       "    <tr>\n",
       "      <th>3</th>\n",
       "      <td>Chrysler</td>\n",
       "      <td>Pacífica</td>\n",
       "      <td>3.6 L PENTASTAR V6</td>\n",
       "      <td>Automática 9</td>\n",
       "    </tr>\n",
       "    <tr>\n",
       "      <th>4</th>\n",
       "      <td>Jeep</td>\n",
       "      <td>Renegade</td>\n",
       "      <td>1.3 L Turbo GSE</td>\n",
       "      <td>Automática 6</td>\n",
       "    </tr>\n",
       "    <tr>\n",
       "      <th>5</th>\n",
       "      <td>Chevrolet</td>\n",
       "      <td>Aveo</td>\n",
       "      <td>1.5 L</td>\n",
       "      <td>Manual 5</td>\n",
       "    </tr>\n",
       "    <tr>\n",
       "      <th>6</th>\n",
       "      <td>Nissan</td>\n",
       "      <td>Versa</td>\n",
       "      <td>1.6 L</td>\n",
       "      <td>Manual 5</td>\n",
       "    </tr>\n",
       "  </tbody>\n",
       "</table>\n",
       "</div>"
      ],
      "text/plain": [
       "        Marca    Modelo               Motor   Transmisión\n",
       "0        None      None                None          None\n",
       "1  Volkswagen     Jetta           1.4 L TSI      Manual 6\n",
       "2      Toyota   Corolla           1.8 L TDI           CVT\n",
       "3    Chrysler  Pacífica  3.6 L PENTASTAR V6  Automática 9\n",
       "4        Jeep  Renegade     1.3 L Turbo GSE  Automática 6\n",
       "5   Chevrolet      Aveo               1.5 L      Manual 5\n",
       "6      Nissan     Versa               1.6 L      Manual 5"
      ]
     },
     "execution_count": 37,
     "metadata": {},
     "output_type": "execute_result"
    }
   ],
   "source": [
    "import pandas as pd\n",
    "#df = pd.DataFrame()\n",
    "#df = pd.DataFrame(columns=['Marca', 'Modelo', 'Motor', 'Transmisión'])\n",
    "#df = df.concat({'Marca': 'Volkswagen', 'Modelo':'Jetta', 'Motor':'1.4 L TSI', 'Transmisión':'Manual 6'}, ignore_index=True)\n",
    "#df = df.append({'Marca': 'Toyota', 'Modelo':'Corolla', 'Motor':'1.8 L TDI', 'Transmisión':'CVT'}, ignore_index=True)\n",
    "#df = df.append({'Marca': 'Chrysler', 'Modelo':'Pacífica', 'Motor':'3.6 L PENTASTAR V6', 'Transmisión':'Automática 9'}, ignore_index=True)\n",
    "#df = df.append({'Marca': 'Jeep', 'Modelo':'Renegade', 'Motor':'1.3 L Turbo GSE', 'Transmisión':'Automática 6'}, ignore_index=True)\n",
    "#df = df.append({'Marca': 'Chevrolet', 'Modelo':'Aveo', 'Motor':'1.5 L', 'Transmisión':'Manual 5'}, ignore_index=True)\n",
    "#df = df.append({'Marca': 'Nissan', 'Modelo':'Versa', 'Motor':'1.6 L', 'Transmisión':'Manual 5'}, ignore_index=True)\n",
    "#print(df)\n",
    "\n",
    "column_keys = [['Marca', 'Modelo', 'Motor', 'Transmisión']]\n",
    "\n",
    "data = [[]]\n",
    "\n",
    "data.append(['Volkswagen', 'Jetta', '1.4 L TSI', 'Manual 6'])\n",
    "data.append(['Toyota', 'Corolla', '1.8 L TDI', 'CVT'])\n",
    "data.append(['Chrysler', 'Pacífica', '3.6 L PENTASTAR V6', 'Automática 9'])\n",
    "data.append(['Jeep', 'Renegade', '1.3 L Turbo GSE', 'Automática 6'])\n",
    "data.append(['Chevrolet', 'Aveo', '1.5 L', 'Manual 5'])\n",
    "data.append(['Nissan', 'Versa', '1.6 L', 'Manual 5'])\n",
    "\n",
    "df = pd.DataFrame(data, columns = column_keys)\n",
    "df"
   ]
  },
  {
   "cell_type": "markdown",
   "metadata": {},
   "source": [
    "<div class=\"alert alert-success\">\n",
    "\n",
    "**Creación de un DataFrame vacío con columnas e índices**\n",
    "\n",
    "4. Definir un DataFrame que contenga un listado de 4 parámetros de 6 modelos de celulares (utilizar el método del siguiente ejemplo). \n",
    "</div>\n",
    "\n",
    "Ejemplo:\n",
    "\n",
    "\n",
    "``` python\n",
    "import pandas as pd\n",
    "df = pd.DataFrame()\n",
    "df = pd.DataFrame(columns=['first_name', 'last_name', 'gender'],index=range(3))\n",
    "df.iloc[0] = ['Josy', 'Clarae', 'Female']\n",
    "df.iloc[1] = ['Vaughn', 'Halegarth', 'Male']\n",
    "df.iloc[2] = ['Neale', 'Georgievski', 'Male']\n",
    "print(df)\n",
    "\n",
    "\n",
    "  first_name  last_name  gender\n",
    "0       Josy     Clarae  Female\n",
    "1     Vaughn  Halegarth    Male\n",
    "```"
   ]
  },
  {
   "cell_type": "code",
   "execution_count": 38,
   "metadata": {},
   "outputs": [
    {
     "data": {
      "text/html": [
       "<div>\n",
       "<style scoped>\n",
       "    .dataframe tbody tr th:only-of-type {\n",
       "        vertical-align: middle;\n",
       "    }\n",
       "\n",
       "    .dataframe tbody tr th {\n",
       "        vertical-align: top;\n",
       "    }\n",
       "\n",
       "    .dataframe thead th {\n",
       "        text-align: right;\n",
       "    }\n",
       "</style>\n",
       "<table border=\"1\" class=\"dataframe\">\n",
       "  <thead>\n",
       "    <tr style=\"text-align: right;\">\n",
       "      <th></th>\n",
       "      <th>Marca</th>\n",
       "      <th>Modelo</th>\n",
       "      <th>Almacenamiento</th>\n",
       "      <th>Sistema operativo</th>\n",
       "    </tr>\n",
       "  </thead>\n",
       "  <tbody>\n",
       "    <tr>\n",
       "      <th>0</th>\n",
       "      <td>Samsung</td>\n",
       "      <td>Galaxy A54</td>\n",
       "      <td>256 GB</td>\n",
       "      <td>Android</td>\n",
       "    </tr>\n",
       "    <tr>\n",
       "      <th>1</th>\n",
       "      <td>Apple</td>\n",
       "      <td>iPhone 14</td>\n",
       "      <td>128 GB</td>\n",
       "      <td>iOS</td>\n",
       "    </tr>\n",
       "    <tr>\n",
       "      <th>2</th>\n",
       "      <td>Motorola</td>\n",
       "      <td>Edge 40</td>\n",
       "      <td>256 GB</td>\n",
       "      <td>Android</td>\n",
       "    </tr>\n",
       "    <tr>\n",
       "      <th>3</th>\n",
       "      <td>Huawei</td>\n",
       "      <td>P60</td>\n",
       "      <td>256 GB</td>\n",
       "      <td>EMUI</td>\n",
       "    </tr>\n",
       "    <tr>\n",
       "      <th>4</th>\n",
       "      <td>Xiaomi</td>\n",
       "      <td>Redmi Note 12S</td>\n",
       "      <td>256 GB</td>\n",
       "      <td>MIUI</td>\n",
       "    </tr>\n",
       "    <tr>\n",
       "      <th>5</th>\n",
       "      <td>Oppo</td>\n",
       "      <td>Find N2 Flip</td>\n",
       "      <td>256 GB</td>\n",
       "      <td>ColorOS</td>\n",
       "    </tr>\n",
       "  </tbody>\n",
       "</table>\n",
       "</div>"
      ],
      "text/plain": [
       "      Marca          Modelo Almacenamiento Sistema operativo\n",
       "0   Samsung      Galaxy A54         256 GB           Android\n",
       "1     Apple       iPhone 14         128 GB               iOS\n",
       "2  Motorola         Edge 40         256 GB           Android\n",
       "3    Huawei             P60         256 GB              EMUI\n",
       "4    Xiaomi  Redmi Note 12S         256 GB              MIUI\n",
       "5      Oppo    Find N2 Flip         256 GB           ColorOS"
      ]
     },
     "execution_count": 38,
     "metadata": {},
     "output_type": "execute_result"
    }
   ],
   "source": [
    "import pandas as pd\n",
    "df = pd.DataFrame()\n",
    "df = pd.DataFrame(columns=['Marca', 'Modelo', 'Almacenamiento', 'Sistema operativo'],index=range(6))\n",
    "df.iloc[0] = ['Samsung', 'Galaxy A54', '256 GB', 'Android']\n",
    "df.iloc[1] = ['Apple', 'iPhone 14', '128 GB', 'iOS']\n",
    "df.iloc[2] = ['Motorola', 'Edge 40', '256 GB', 'Android']\n",
    "df.iloc[3] = ['Huawei', 'P60', '256 GB', 'EMUI']\n",
    "df.iloc[4] = ['Xiaomi', 'Redmi Note 12S', '256 GB', 'MIUI']\n",
    "df.iloc[5] = ['Oppo', 'Find N2 Flip', '256 GB', 'ColorOS']\n",
    "df"
   ]
  },
  {
   "cell_type": "code",
   "execution_count": null,
   "metadata": {},
   "outputs": [],
   "source": []
  }
 ],
 "metadata": {
  "kernelspec": {
   "display_name": "Python 3 (ipykernel)",
   "language": "python",
   "name": "python3"
  },
  "language_info": {
   "codemirror_mode": {
    "name": "ipython",
    "version": 3
   },
   "file_extension": ".py",
   "mimetype": "text/x-python",
   "name": "python",
   "nbconvert_exporter": "python",
   "pygments_lexer": "ipython3",
   "version": "3.10.1"
  }
 },
 "nbformat": 4,
 "nbformat_minor": 4
}
