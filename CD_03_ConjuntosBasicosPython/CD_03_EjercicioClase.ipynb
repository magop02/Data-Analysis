{
 "cells": [
  {
   "cell_type": "markdown",
   "metadata": {},
   "source": [
    "<!--Información del curso-->\n",
    "<img align=\"left\" style=\"padding-right:10px;\" src=\"figuras/logo_ciencia_datos.png\">"
   ]
  },
  {
   "cell_type": "markdown",
   "metadata": {},
   "source": [
    "# Librerías"
   ]
  },
  {
   "cell_type": "markdown",
   "metadata": {
    "collapsed": true,
    "jupyter": {
     "outputs_hidden": true
    }
   },
   "source": [
    "Cargamos las bibliotecas que necesitamos "
   ]
  },
  {
   "cell_type": "code",
   "execution_count": 1,
   "metadata": {},
   "outputs": [],
   "source": [
    "import csv\n",
    "import matplotlib.pyplot as plt"
   ]
  },
  {
   "cell_type": "code",
   "execution_count": 2,
   "metadata": {},
   "outputs": [
    {
     "name": "stdout",
     "output_type": "stream",
     "text": [
      "[['id', 'Nombre', 'Apellidos', 'Carrera', 'Semestre', 'Correo', 'Promedio'], ['1', 'Rodrigo Alejandro', 'Aguilar Rosel', 'Renovables', '9', 'rodrigo12@gmail.com', '59'], ['2', 'Miguel Isaac ', 'Arroyo Velazquez', 'Fisica', '7', 'arroyov@gmail.com', '86'], ['3', 'Nohely', 'Badillo Castillo', 'Fisica', '7', 'nohely_92@gmail.com', '94'], ['4', 'Julio de jesus', 'Basto Clavijo', 'Mecatronica', '10', 'juliobasti@hotmail.com', '79'], ['5', 'Zaazil Ha', 'Cabreja Burgos', 'Fisica', '9', 'zazicab@gmail.com', '100'], ['6', 'Fernando Humberto', 'Carrillo Berdugo', 'Fisica', '9', 'fernandocarrillo@gmail.com', '36'], ['7', 'Edwin Alberto', 'Castillo Herrera', 'Mecatronica', '9', 'castilloherrera96@gmail.com', '77'], ['8', 'Eduardo Alonso', 'Catzin Uc', 'Fisica', '5', 'eduardocatzin@gmail.com', '95'], ['9', 'Dario de Jesus', 'Chan Colli', 'Fisica', '5', 'dariocha@gmail.com', '97'], ['10', 'Abril Guadalupe', 'Chan Gallegos', 'Fisica', '9', 'itsab@gmail.com', '84'], ['11', 'Alexa Amairani', 'Dominguez Salazar', 'Mecatronica', '10', 'a1411@alumnos.uady.mx', '83'], ['12', 'Guillermo Agustin', 'Dzib Duran', 'Mecatronica', '9', 'guillerm@hotmail.com', '97'], ['13', 'Maria del Carmen', 'Esteban Castro', 'Fisica', '6', 'marias@gmail.com', '45'], ['14', 'Rafael Eduardo', 'Flores Pat', 'Mecatronica', '10', 'ref@hotmail.com', '83'], ['15', 'Saul Eliseo', 'Gamboa Leon', 'Fisica', '5', 'saul.eliseo1g@gmail.com', '50'], ['16', 'Ricardo Andres', 'Hernandez Esperon', 'Renovables', '9', 'ricardohernandeze182@gmail.com', '84'], ['17', 'Sergio Alonso', 'Lopez Fuentes', 'Fisica', '9', 'iol99@gmail.com', '26'], ['18', 'Eric Josue ', 'Manzanilla Careaga', 'Fisica', '6', 'ericmanzanil@gmail.com', '98'], ['19', 'Raul Isaac', 'Mercado Sandoval', 'Mecatronica', '10', 'raulmercadosan@gmail.com', '66'], ['20', 'Fernando Antonio', 'Mora Cruz', 'Renovables', '6', 'fernan@hotmail.com', '79'], ['21', 'Jimena', 'Ochoa Mancilla', 'Fisica', '7', 'ochoa97@gmail.com', '52'], ['22', 'Jose Rodrigo ', 'Orozco Chac', 'Fisica', '9', 'rodrig@gmail.com', '53'], ['23', 'Bruno', 'Perez Hernandez', 'Fisica', '5', 'bp5179@gmail.com', '77'], ['24', 'Jose Angel', 'Puc Ciau', 'Mecatronica', '10', 'jose.puc@gmail.com', '80'], ['25', 'Carmen Andrea', 'Rivera Martinez', 'Fisica', '5', 'carmen.r@hotmail.com', '68'], ['26', 'Hazael', 'Rivero Canul', 'Mecatronica', '9', 'ritohazae@gmail.com', '66'], ['27', 'Laura Paola', 'Rocha Villarino', 'Fisica', '7', 'paol@hotmail.com', '76'], ['28', 'Omar Yamil', 'Rodriguez Gamboa', 'Renovables', '9', 'omary@gmail.com', '95'], ['29', 'Dulce Mariana', 'Romero Quezada', 'Fisica', '5', 'soymariana@gmail.com', '83'], ['30', 'Ariel Alejandro', 'Ruiz Ramirez', 'Fisica', '10', 'ruizrr@gmail.com', '86'], ['31', 'Rafael Jesus ', 'Salazar Magana', 'Mecatronica', '9', 'smrafael@gmail.com', '70'], ['32', 'Alejandro', 'Santoscoy Rivero', 'Fisica', '5', 'alesanc@hotmail.com', '65'], ['33', 'Luis Ernesto', 'Sevilla Sarao', 'Renovables', '9', 'sevillaerne@gmail.com', '69'], ['34', 'Alan David ', 'Vargas Saenz', 'Renovables', '9', 'alandavs@gmail.com', '83'], ['35', 'Rafael ', 'Vega Can', 'Mecatronica', '10', 'rafaelve@gmail.com', '97']]\n"
     ]
    }
   ],
   "source": [
    "with open('datos/lista_estudiantes.csv') as archivo_csv:\n",
    "    datos = list(csv.reader(archivo_csv))\n",
    "    print(datos)"
   ]
  },
  {
   "cell_type": "markdown",
   "metadata": {},
   "source": [
    "# Ejercicios de clase"
   ]
  },
  {
   "cell_type": "markdown",
   "metadata": {},
   "source": [
    "<div class=\"alert alert-info\">\n",
    " <ul>\n",
    "  <li>1. Encuentre el número de estudiantes </li>\n",
    "</ul> \n",
    "\n",
    "</div>"
   ]
  },
  {
   "cell_type": "code",
   "execution_count": 4,
   "metadata": {},
   "outputs": [
    {
     "name": "stdout",
     "output_type": "stream",
     "text": [
      "Número de estudiantes: 35\n"
     ]
    }
   ],
   "source": [
    "with open('datos/lista_estudiantes.csv') as archivo_csv:\n",
    "    #next(archivo_csv) salta la primera fila del archivo\n",
    "    datos = list(csv.reader(archivo_csv))\n",
    "    estudiantes=0\n",
    "    for dato in datos:\n",
    "        estudiantes = estudiantes + 1\n",
    "\n",
    "print(\"Número de estudiantes:\", estudiantes - 1)"
   ]
  },
  {
   "cell_type": "markdown",
   "metadata": {},
   "source": [
    "<div class=\"alert alert-info\">\n",
    " <ul>\n",
    "  <li>2. Hacer una lista llamada lista_promedio, con los promedios de los estudiantes.  </li>\n",
    "</ul> \n",
    "\n",
    "</div>"
   ]
  },
  {
   "cell_type": "code",
   "execution_count": 17,
   "metadata": {},
   "outputs": [
    {
     "name": "stdout",
     "output_type": "stream",
     "text": [
      "[59, 86, 94, 79, 100, 36, 77, 95, 97, 84, 83, 97, 45, 83, 50, 84, 26, 98, 66, 79, 52, 53, 77, 80, 68, 66, 76, 95, 83, 86, 70, 65, 69, 83, 97]\n"
     ]
    }
   ],
   "source": [
    "with open('datos/lista_estudiantes.csv') as archivo_csv:\n",
    "    next(archivo_csv)\n",
    "    datos = list(csv.reader(archivo_csv))\n",
    "    lista_promedio=[]\n",
    "    for dato in datos:\n",
    "        lista_promedio.append(int(dato[6])) #dato[-1]\n",
    "print(lista_promedio)"
   ]
  },
  {
   "cell_type": "markdown",
   "metadata": {},
   "source": [
    "<div class=\"alert alert-info\">\n",
    " <ul>\n",
    "  <li> 3. Con la lista_promedio encuentre el valor de la calificación mayor, menor y el promedio general  </li>\n",
    "</ul> \n",
    "\n",
    "</div>"
   ]
  },
  {
   "cell_type": "code",
   "execution_count": 18,
   "metadata": {},
   "outputs": [
    {
     "name": "stdout",
     "output_type": "stream",
     "text": [
      "Mayor calificación: 100\n",
      "Menor calificación: 26\n",
      "Promedio general: 75.37142857142857\n"
     ]
    }
   ],
   "source": [
    "print(\"Mayor calificación:\", max(lista_promedio))\n",
    "print(\"Menor calificación:\", min(lista_promedio))\n",
    "print(\"Promedio general:\", (sum(lista_promedio)/len(lista_promedio)))"
   ]
  },
  {
   "cell_type": "markdown",
   "metadata": {},
   "source": [
    "<div class=\"alert alert-info\">\n",
    " <ul>\n",
    "  <li> 4. Cuantos estudiantes de cada carrera hay en la lista </li>\n",
    "</ul> \n",
    "\n",
    "</div>\n"
   ]
  },
  {
   "cell_type": "code",
   "execution_count": 20,
   "metadata": {},
   "outputs": [
    {
     "name": "stdout",
     "output_type": "stream",
     "text": [
      "{'Renovables': 6, 'Fisica': 19, 'Mecatronica': 10}\n"
     ]
    }
   ],
   "source": [
    "with open('datos/lista_estudiantes.csv') as archivo_csv:\n",
    "    next(archivo_csv)\n",
    "    datos = list(csv.reader(archivo_csv))\n",
    "    carrera={}\n",
    "    for dato in datos:\n",
    "      carrera[dato[3]] = carrera.get(dato[3], 0) + 1  \n",
    "print(carrera)\n",
    "        "
   ]
  },
  {
   "cell_type": "markdown",
   "metadata": {},
   "source": [
    "<div class=\"alert alert-info\">\n",
    " <ul>\n",
    "  <li> 5. Se desea crear un correo con el primer nombre seguido del primer apellido y teniendo el string '@fiuady.mx'. Hacer una lista lla </li>\n",
    "  \n",
    "Ejemplo:    \n",
    "* Rodrigo Alejandro,Aguilar Rosel   ->  rodrigo.aguilar@fiuady.mx \n",
    "* Dulce Mariana,Romero Quezada -> dulce.romero@fiuady.mx \n",
    "</ul> \n",
    "\n",
    "</div>\n",
    "\n",
    "##### Convertir  a minúsculas \n",
    "\n",
    "```python\n",
    "Saludo='HolA MUNDo'\n",
    "Saludo.lower()\n",
    "``` "
   ]
  },
  {
   "cell_type": "code",
   "execution_count": 21,
   "metadata": {},
   "outputs": [
    {
     "data": {
      "text/plain": [
       "'hola mundo'"
      ]
     },
     "execution_count": 21,
     "metadata": {},
     "output_type": "execute_result"
    }
   ],
   "source": [
    "Saludo='HolA MUNDo'\n",
    "Saludo.lower()"
   ]
  },
  {
   "cell_type": "code",
   "execution_count": null,
   "metadata": {},
   "outputs": [],
   "source": [
    "with open('datos/lista_estudiantes.csv') as archivo_csv:\n",
    "    next(archivo_csv)\n",
    "    datos = list(csv.reader(archivo_csv))\n",
    "    nombres=[]\n",
    "    for dato in datos:\n",
    "        nombre=dato[1].lower()\n",
    "\n",
    "print()"
   ]
  }
 ],
 "metadata": {
  "kernelspec": {
   "display_name": "Python 3 (ipykernel)",
   "language": "python",
   "name": "python3"
  },
  "language_info": {
   "codemirror_mode": {
    "name": "ipython",
    "version": 3
   },
   "file_extension": ".py",
   "mimetype": "text/x-python",
   "name": "python",
   "nbconvert_exporter": "python",
   "pygments_lexer": "ipython3",
   "version": "3.10.1"
  }
 },
 "nbformat": 4,
 "nbformat_minor": 4
}
