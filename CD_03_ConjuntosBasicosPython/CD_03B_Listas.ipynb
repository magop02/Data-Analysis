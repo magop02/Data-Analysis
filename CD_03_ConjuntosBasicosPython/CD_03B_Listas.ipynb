{
 "cells": [
  {
   "cell_type": "markdown",
   "metadata": {},
   "source": [
    "<!--Información del curso-->\n",
    "<img align=\"left\" style=\"padding-right:10px;\" src=\"figuras/logo_cd.png\">"
   ]
  },
  {
   "cell_type": "markdown",
   "metadata": {},
   "source": [
    "<center><h1 style=\"font-size:2em;color:#2467C0\"> Listas  </h1></center>\n",
    "<br>\n",
    "<table>\n",
    "<col width=\"550\">\n",
    "<col width=\"450\">\n",
    "<tr>\n",
    "<td><img src=\"figuras/listas-python.jpg\" align=\"middle\" style=\"width:300px\"/></td>\n",
    "<td>\n",
    "    \n",
    "    \n",
    "Una lista es una estructura de datos y un tipo de dato en python con características especiales. Lo especial de las listas en Python es que nos permiten almacenar cualquier tipo de valor como enteros, strings, etc.\n",
    "</td>\n",
    "</tr>\n",
    "</table>"
   ]
  },
  {
   "cell_type": "markdown",
   "metadata": {},
   "source": [
    "# Listas en python"
   ]
  },
  {
   "cell_type": "markdown",
   "metadata": {},
   "source": [
    "## Ejemplos\n",
    "\n",
    "Una lista sea crea con `[]` separando sus elementos con comas ','. Una gran ventaja es que pueden almacenar tipos de datos distintos.\n",
    "\n",
    "\n",
    "```python\n",
    "lista_1 =[1, 24, 76]\n",
    "\n",
    "lista_2 =['red', 'yellow', 'blue']\n",
    "\n",
    "lista_3 =['red', 24, 98.6, True]\n",
    "\n",
    "lista_4 =[ 1, [5, 6], 7]\n",
    "\n",
    "lista_5 =[]\n",
    "```\n",
    "\n"
   ]
  },
  {
   "cell_type": "code",
   "execution_count": 1,
   "metadata": {},
   "outputs": [],
   "source": [
    "lista_1 =[1, 24, 76]\n",
    "\n",
    "lista_2 =['red', 'yellow', 'blue']\n",
    "\n",
    "lista_3 =['red', 24, 98.6, True]\n",
    "\n",
    "lista_4 =[ 1, [5, 6], 7]\n",
    "\n",
    "lista_5 =[]"
   ]
  },
  {
   "cell_type": "code",
   "execution_count": 3,
   "metadata": {},
   "outputs": [
    {
     "name": "stdout",
     "output_type": "stream",
     "text": [
      "[1, 24, 76]\n",
      "['red', 'yellow', 'blue']\n",
      "['red', 24, 98.6, True]\n",
      "[1, [5, 6], 7]\n",
      "[]\n"
     ]
    }
   ],
   "source": [
    "#Imprimir cada una de las listas\n",
    "print(lista_1)\n",
    "print(lista_2)\n",
    "print(lista_3)\n",
    "print(lista_4)\n",
    "print(lista_5)"
   ]
  },
  {
   "cell_type": "markdown",
   "metadata": {},
   "source": [
    "## Iterando con elementos de una lista\n",
    "Ya hemos visto que se puede usar el bucle `for` en Python para recorrer los elementos de un string. En nuestro caso, para recorrer una lista en Python utilizaríamos la siguiente estructura:\n",
    "\n",
    "```python\n",
    "for elemento in lista :\n",
    "    print(elemento)\n",
    "```\n",
    "\n"
   ]
  },
  {
   "cell_type": "code",
   "execution_count": 13,
   "metadata": {},
   "outputs": [
    {
     "name": "stdout",
     "output_type": "stream",
     "text": [
      "azul\n",
      "blanco\n",
      "negro\n"
     ]
    }
   ],
   "source": [
    "#Probar con la lista  colores = ['azul', 'blanco', 'negro']\n",
    "colores = ['azul', 'blanco', 'negro']\n",
    "for color in colores :\n",
    "    print(color)"
   ]
  },
  {
   "cell_type": "code",
   "execution_count": 17,
   "metadata": {},
   "outputs": [
    {
     "name": "stdout",
     "output_type": "stream",
     "text": [
      "red\n",
      "24\n",
      "98.6\n",
      "True\n",
      "[1, 2, 3]\n"
     ]
    }
   ],
   "source": [
    "# Probar con la lista elementos= ['red', 24, 98.6, True,[1,2,3]]\n",
    "elementos = ['red', 24, 98.6, True,[1,2,3]]\n",
    "for elemento in elementos :\n",
    "    print(elemento)\n",
    "    #print(type(elemento))"
   ]
  },
  {
   "cell_type": "code",
   "execution_count": 14,
   "metadata": {},
   "outputs": [
    {
     "name": "stdout",
     "output_type": "stream",
     "text": [
      "Jose\n",
      "Juan\n",
      "Sally\n"
     ]
    }
   ],
   "source": [
    "# Probar con  la lista nombres = ['Jose', 'Juan', 'Sally']\n",
    "nombres = ['Jose', 'Juan', 'Sally']\n",
    "for nombre in nombres :\n",
    "    print(nombre)"
   ]
  },
  {
   "cell_type": "markdown",
   "metadata": {},
   "source": [
    "## Obteniendo elementos de listas\n",
    "Para acceder a un elemento de una lista se utilizan los índices. Un índice es un número entero que indica la posición de un elemento en una lista. El primer elemento de una lista siempre comienza en el índice 0.\n"
   ]
  },
  {
   "cell_type": "code",
   "execution_count": 20,
   "metadata": {},
   "outputs": [],
   "source": [
    "amigos = [ 'Jose', 'Glenn', 'Sally' ]"
   ]
  },
  {
   "cell_type": "code",
   "execution_count": 21,
   "metadata": {},
   "outputs": [
    {
     "data": {
      "text/plain": [
       "'Jose'"
      ]
     },
     "execution_count": 21,
     "metadata": {},
     "output_type": "execute_result"
    }
   ],
   "source": [
    "# Elemento con índice 0\n",
    "amigos[0]"
   ]
  },
  {
   "cell_type": "code",
   "execution_count": 22,
   "metadata": {},
   "outputs": [
    {
     "data": {
      "text/plain": [
       "'Sally'"
      ]
     },
     "execution_count": 22,
     "metadata": {},
     "output_type": "execute_result"
    }
   ],
   "source": [
    "# Elemento con índice 2\n",
    "amigos[2]"
   ]
  },
  {
   "cell_type": "code",
   "execution_count": 23,
   "metadata": {},
   "outputs": [
    {
     "data": {
      "text/plain": [
       "'Glenn'"
      ]
     },
     "execution_count": 23,
     "metadata": {},
     "output_type": "execute_result"
    }
   ],
   "source": [
    "# Elemento con índice -2\n",
    "amigos[-2]"
   ]
  },
  {
   "cell_type": "code",
   "execution_count": 24,
   "metadata": {},
   "outputs": [
    {
     "ename": "IndexError",
     "evalue": "list index out of range",
     "output_type": "error",
     "traceback": [
      "\u001b[1;31m---------------------------------------------------------------------------\u001b[0m",
      "\u001b[1;31mIndexError\u001b[0m                                Traceback (most recent call last)",
      "Cell \u001b[1;32mIn[24], line 2\u001b[0m\n\u001b[0;32m      1\u001b[0m \u001b[38;5;66;03m# Elemento con índice 5\u001b[39;00m\n\u001b[1;32m----> 2\u001b[0m \u001b[43mamigos\u001b[49m\u001b[43m[\u001b[49m\u001b[38;5;241;43m5\u001b[39;49m\u001b[43m]\u001b[49m\n",
      "\u001b[1;31mIndexError\u001b[0m: list index out of range"
     ]
    }
   ],
   "source": [
    "# Elemento con índice 5\n",
    "amigos[5]"
   ]
  },
  {
   "cell_type": "markdown",
   "metadata": {},
   "source": [
    "## Las listas son mutables\n",
    "Los tipos de datos mutables son todos aquellos a los que es posible cambiar, modificar o actualizar su contenido. Los objetos mutables más comunes son las listas, diccionarios y conjuntos que sirven para guardar colecciones de datos."
   ]
  },
  {
   "cell_type": "code",
   "execution_count": 26,
   "metadata": {},
   "outputs": [],
   "source": [
    "loteria = [2, 14, 26, 41, 63]"
   ]
  },
  {
   "cell_type": "code",
   "execution_count": 27,
   "metadata": {},
   "outputs": [
    {
     "name": "stdout",
     "output_type": "stream",
     "text": [
      "[180, 14, 26, 41, 63]\n"
     ]
    }
   ],
   "source": [
    "#Cambiar el primer elemento con 180 , es decir [180, 14, 26, 41, 63]\n",
    "\n",
    "loteria[0] = 180 #accedo a través de su índice y cambio a 180\n",
    "print(loteria)"
   ]
  },
  {
   "cell_type": "code",
   "execution_count": 28,
   "metadata": {},
   "outputs": [
    {
     "name": "stdout",
     "output_type": "stream",
     "text": [
      "[180, 14, 26, 41, 15]\n"
     ]
    }
   ],
   "source": [
    "#Cambiar el útlimo elemento con 15 \n",
    "\n",
    "loteria[-1] = 15\n",
    "print(loteria)"
   ]
  },
  {
   "cell_type": "markdown",
   "metadata": {},
   "source": [
    "## Seccionando listas usando \":\"\n",
    "En Python, se puede segmentar una lista utilizando el operador de segmentación `:`. Este operador permite especificar un rango de índices para obtener una porción específica de la lista. La sintaxis básica para segmentar una lista es la siguiente:\n",
    "\n",
    "\n",
    "```python\n",
    "lista[inicio: fin (límite pero no esta incluido) ]\n",
    "```\n"
   ]
  },
  {
   "cell_type": "code",
   "execution_count": 29,
   "metadata": {},
   "outputs": [],
   "source": [
    "t = [9, 41, 12, 3, 74, 15, 10, 65]\n",
    "#    0, 1 , 2 , 3,  4,  5,  6, 7"
   ]
  },
  {
   "cell_type": "code",
   "execution_count": 31,
   "metadata": {},
   "outputs": [
    {
     "data": {
      "text/plain": [
       "[41, 12, 3, 74]"
      ]
     },
     "execution_count": 31,
     "metadata": {},
     "output_type": "execute_result"
    }
   ],
   "source": [
    "# salida ->  [41, 12, 3, 74]\n",
    "t[1:5] #fin=indice 5, pero como el límite no está incluido muestra hasta el índice 4"
   ]
  },
  {
   "cell_type": "code",
   "execution_count": 32,
   "metadata": {},
   "outputs": [
    {
     "data": {
      "text/plain": [
       "[15, 10]"
      ]
     },
     "execution_count": 32,
     "metadata": {},
     "output_type": "execute_result"
    }
   ],
   "source": [
    "# salida -> [15, 10]\n",
    "t[5:7]"
   ]
  },
  {
   "cell_type": "code",
   "execution_count": 34,
   "metadata": {},
   "outputs": [
    {
     "data": {
      "text/plain": [
       "[3, 74, 15, 10, 65]"
      ]
     },
     "execution_count": 34,
     "metadata": {},
     "output_type": "execute_result"
    }
   ],
   "source": [
    "# salida ->[3, 74, 15, 10, 65]\n",
    "t[3: ] #cuando se omite el índice final, toma hasta el último elemento\n",
    "\n",
    "#omitir el índice inicial --> toma desde el inicio"
   ]
  },
  {
   "cell_type": "markdown",
   "metadata": {},
   "source": [
    "### índices negativos\n",
    "En Python, los índices negativos se pueden utilizar para acceder a elementos de una lista contando desde el final. El último elemento de la lista tiene un índice -1, el penúltimo tiene un índice -2 y así sucesivamente"
   ]
  },
  {
   "cell_type": "code",
   "execution_count": 2,
   "metadata": {},
   "outputs": [],
   "source": [
    "t = [9, 41, 12, 3, 74, 15, 10, 65]\n",
    "#    0, 1 , 2 , 3,  4,  5,  6, 7\n",
    "#   -8,-7 ,-6 ,-5, -4, -3, -2,-1"
   ]
  },
  {
   "cell_type": "code",
   "execution_count": 3,
   "metadata": {},
   "outputs": [
    {
     "data": {
      "text/plain": [
       "[41, 12, 3, 74, 15, 10]"
      ]
     },
     "execution_count": 3,
     "metadata": {},
     "output_type": "execute_result"
    }
   ],
   "source": [
    "# salida -> [41, 12, 3, 74, 15, 10]\n",
    "t[-7:-1]"
   ]
  },
  {
   "cell_type": "code",
   "execution_count": 5,
   "metadata": {},
   "outputs": [
    {
     "data": {
      "text/plain": [
       "[9, 41, 12, 3]"
      ]
     },
     "execution_count": 5,
     "metadata": {},
     "output_type": "execute_result"
    }
   ],
   "source": [
    "# salida -> [9, 41, 12, 3]\n",
    "t[-8:-4]"
   ]
  },
  {
   "cell_type": "code",
   "execution_count": 6,
   "metadata": {},
   "outputs": [
    {
     "data": {
      "text/plain": [
       "[74, 15]"
      ]
     },
     "execution_count": 6,
     "metadata": {},
     "output_type": "execute_result"
    }
   ],
   "source": [
    "# salida -> [74, 15]\n",
    "t[-4:-2]"
   ]
  },
  {
   "cell_type": "code",
   "execution_count": 7,
   "metadata": {},
   "outputs": [
    {
     "data": {
      "text/plain": [
       "[41, 12, 3, 74, 15]"
      ]
     },
     "execution_count": 7,
     "metadata": {},
     "output_type": "execute_result"
    }
   ],
   "source": [
    "# salida -> [41, 3, 15]\n",
    "t[-7:-2]"
   ]
  },
  {
   "cell_type": "code",
   "execution_count": 8,
   "metadata": {},
   "outputs": [
    {
     "data": {
      "text/plain": [
       "[9, 41, 12, 3, 74, 15, 10]"
      ]
     },
     "execution_count": 8,
     "metadata": {},
     "output_type": "execute_result"
    }
   ],
   "source": [
    "# salida -> [9, 3, 10]\n",
    "t[-8:-1]"
   ]
  },
  {
   "cell_type": "markdown",
   "metadata": {},
   "source": [
    "## Métodos integrados para las listas"
   ]
  },
  {
   "cell_type": "markdown",
   "metadata": {},
   "source": [
    "### append : Construyendo una lista desde cero \n",
    "\n",
    "Para crear una lista en Python utilizando el método  `append()`, primero es ncesario inicializar una lista vacía y luego agregar elementos"
   ]
  },
  {
   "cell_type": "code",
   "execution_count": 37,
   "metadata": {},
   "outputs": [
    {
     "name": "stdout",
     "output_type": "stream",
     "text": [
      "[]\n"
     ]
    }
   ],
   "source": [
    "#dos formas de crear una lista:\n",
    "#cosas = list()\n",
    "cosas = []\n",
    "\n",
    "print(cosas)"
   ]
  },
  {
   "cell_type": "code",
   "execution_count": 38,
   "metadata": {},
   "outputs": [
    {
     "name": "stdout",
     "output_type": "stream",
     "text": [
      "['libro']\n",
      "['libro', 99]\n",
      "['libro', 99, 'galleta']\n",
      "['libro', 99, 'galleta', True]\n"
     ]
    }
   ],
   "source": [
    "# Agregar los siguientes strings: 'libro', 99, 'galleta', True\n",
    "cosas=[]\n",
    "cosas.append('libro')\n",
    "print(cosas)\n",
    "cosas.append(99)\n",
    "print(cosas)\n",
    "cosas.append('galleta')\n",
    "print(cosas)\n",
    "cosas.append(True)\n",
    "print(cosas)"
   ]
  },
  {
   "cell_type": "markdown",
   "metadata": {},
   "source": [
    "### Encontrar elementos en una lista\n",
    "En Python, puedes utilizar el operador in para verificar si un elemento está presente en una lista. El operador  `in` devuelve un valor booleano (*True* o *False*) según si el elemento se encuentra o no en la lista"
   ]
  },
  {
   "cell_type": "code",
   "execution_count": 14,
   "metadata": {},
   "outputs": [],
   "source": [
    "edades = [1, 9, 21, 10, 16]"
   ]
  },
  {
   "cell_type": "code",
   "execution_count": 16,
   "metadata": {},
   "outputs": [
    {
     "data": {
      "text/plain": [
       "True"
      ]
     },
     "execution_count": 16,
     "metadata": {},
     "output_type": "execute_result"
    }
   ],
   "source": [
    "#probar 9 en la lista edades\n",
    "9 in edades"
   ]
  },
  {
   "cell_type": "code",
   "execution_count": 17,
   "metadata": {},
   "outputs": [
    {
     "data": {
      "text/plain": [
       "False"
      ]
     },
     "execution_count": 17,
     "metadata": {},
     "output_type": "execute_result"
    }
   ],
   "source": [
    "#probar 15 en la lista edades\n",
    "15 in edades"
   ]
  },
  {
   "cell_type": "markdown",
   "metadata": {},
   "source": [
    "### Ordenando listas\n",
    "\n",
    "En Python, puedes ordenar una lista utilizando el método `sort()`. Este método modifica la lista original reordenando sus elementos de forma ascendente por defecto. También puedes utilizar el argumento opcional *reverse=True* para ordenar la lista en orden descendente\n",
    "\n"
   ]
  },
  {
   "cell_type": "code",
   "execution_count": 39,
   "metadata": {},
   "outputs": [],
   "source": [
    "edades = [18,2, 9, 21, 10, 16]"
   ]
  },
  {
   "cell_type": "code",
   "execution_count": 42,
   "metadata": {},
   "outputs": [
    {
     "name": "stdout",
     "output_type": "stream",
     "text": [
      "[2, 9, 10, 16, 18, 21]\n"
     ]
    }
   ],
   "source": [
    "# ordenar la lista edades \n",
    "edades.sort() #ordena la lista de edades de menor a mayor\n",
    "print(edades)"
   ]
  },
  {
   "cell_type": "code",
   "execution_count": 44,
   "metadata": {},
   "outputs": [
    {
     "name": "stdout",
     "output_type": "stream",
     "text": [
      "[21, 18, 16, 10, 9, 2]\n"
     ]
    }
   ],
   "source": [
    "# ordenar la lista edades en forma descendente\n",
    "edades.sort(reverse=True) #al agregar 'reverse=True' ordena la lista de edades de mayor a menor\n",
    "print(edades)"
   ]
  },
  {
   "cell_type": "markdown",
   "metadata": {},
   "source": [
    "###  Operaciones estadísticas en listas\n",
    "\n",
    "En Python, hay varias funciones y métodos que puedes utilizar para realizar operaciones estadísticas en listas. Aquí tienes algunas de las más comunes:\n",
    "\n",
    "* `len(lista)`: Devuelve la longitud de la lista, es decir, el número de elementos en la lista.\n",
    "* `sum(lista)`: Calcula la suma de todos los elementos de la lista.\n",
    "* `max(lista)`: Devuelve el valor máximo en la lista.\n",
    "* `min(lista)`: Devuelve el valor mínimo en la lista.\n",
    "* `sum(lista) / len(lista)`: Calcula el promedio (media) de los elementos en la lista.\n",
    "            \n",
    "Python también ofrece bibliotecas más especializadas como NumPy y pandas que proporcionan una amplia gama de funciones y herramientas estadísticas para manipular y analizar datos."
   ]
  },
  {
   "cell_type": "code",
   "execution_count": 18,
   "metadata": {},
   "outputs": [],
   "source": [
    "nums = [3, 41, 12, 9, 74, 15]"
   ]
  },
  {
   "cell_type": "code",
   "execution_count": 19,
   "metadata": {},
   "outputs": [
    {
     "data": {
      "text/plain": [
       "6"
      ]
     },
     "execution_count": 19,
     "metadata": {},
     "output_type": "execute_result"
    }
   ],
   "source": [
    "# Encontrar el número de elementos, el elemento mayor y menor, la suma y el promedio\n",
    "len(nums)"
   ]
  },
  {
   "cell_type": "code",
   "execution_count": 20,
   "metadata": {},
   "outputs": [
    {
     "data": {
      "text/plain": [
       "154"
      ]
     },
     "execution_count": 20,
     "metadata": {},
     "output_type": "execute_result"
    }
   ],
   "source": [
    "sum(nums)"
   ]
  },
  {
   "cell_type": "code",
   "execution_count": 21,
   "metadata": {},
   "outputs": [
    {
     "data": {
      "text/plain": [
       "74"
      ]
     },
     "execution_count": 21,
     "metadata": {},
     "output_type": "execute_result"
    }
   ],
   "source": [
    "max(nums)"
   ]
  },
  {
   "cell_type": "code",
   "execution_count": 22,
   "metadata": {},
   "outputs": [
    {
     "data": {
      "text/plain": [
       "3"
      ]
     },
     "execution_count": 22,
     "metadata": {},
     "output_type": "execute_result"
    }
   ],
   "source": [
    "min(nums)"
   ]
  },
  {
   "cell_type": "code",
   "execution_count": 23,
   "metadata": {},
   "outputs": [
    {
     "data": {
      "text/plain": [
       "25.666666666666668"
      ]
     },
     "execution_count": 23,
     "metadata": {},
     "output_type": "execute_result"
    }
   ],
   "source": [
    "sum(nums)/len(nums)"
   ]
  }
 ],
 "metadata": {
  "kernelspec": {
   "display_name": "Python 3 (ipykernel)",
   "language": "python",
   "name": "python3"
  },
  "language_info": {
   "codemirror_mode": {
    "name": "ipython",
    "version": 3
   },
   "file_extension": ".py",
   "mimetype": "text/x-python",
   "name": "python",
   "nbconvert_exporter": "python",
   "pygments_lexer": "ipython3",
   "version": "3.10.1"
  }
 },
 "nbformat": 4,
 "nbformat_minor": 4
}
